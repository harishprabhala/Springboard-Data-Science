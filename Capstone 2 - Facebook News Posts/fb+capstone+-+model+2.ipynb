{
 "cells": [
  {
   "cell_type": "code",
   "execution_count": 1,
   "metadata": {
    "collapsed": true
   },
   "outputs": [],
   "source": [
    "%matplotlib inline\n",
    "import numpy as np\n",
    "import pandas as pd\n",
    "import nltk\n",
    "import string\n",
    "import matplotlib.pyplot as plt"
   ]
  },
  {
   "cell_type": "code",
   "execution_count": 2,
   "metadata": {
    "collapsed": true
   },
   "outputs": [],
   "source": [
    "fb_percentiles = pd.read_excel('/Users/harishprabhala/Downloads/martinchek-2012-2016-facebook-posts/fb_posts_percentiles.xlsx')"
   ]
  },
  {
   "cell_type": "code",
   "execution_count": 3,
   "metadata": {},
   "outputs": [
    {
     "data": {
      "text/html": [
       "<div>\n",
       "<table border=\"1\" class=\"dataframe\">\n",
       "  <thead>\n",
       "    <tr style=\"text-align: right;\">\n",
       "      <th></th>\n",
       "      <th>name</th>\n",
       "      <th>message</th>\n",
       "      <th>description</th>\n",
       "      <th>status_type</th>\n",
       "      <th>likes_count</th>\n",
       "      <th>comments_count</th>\n",
       "      <th>shares_count</th>\n",
       "      <th>year</th>\n",
       "      <th>likes_percentile</th>\n",
       "      <th>shares_percentile</th>\n",
       "    </tr>\n",
       "  </thead>\n",
       "  <tbody>\n",
       "    <tr>\n",
       "      <th>0</th>\n",
       "      <td>Chief Justice Roberts Responds to Judicial Eth...</td>\n",
       "      <td>Roberts took the unusual step of devoting the ...</td>\n",
       "      <td>PAUL J. RICHARDS/AFP/Getty Images Chief Justic...</td>\n",
       "      <td>shared_story</td>\n",
       "      <td>61</td>\n",
       "      <td>27</td>\n",
       "      <td>12</td>\n",
       "      <td>2012-01-01 00:30:26</td>\n",
       "      <td>0.056</td>\n",
       "      <td>0.098</td>\n",
       "    </tr>\n",
       "    <tr>\n",
       "      <th>1</th>\n",
       "      <td>With Reservations, Obama Signs Act to Allow De...</td>\n",
       "      <td>Do you agree with the new law?</td>\n",
       "      <td>In his last official act of business in 2011, ...</td>\n",
       "      <td>shared_story</td>\n",
       "      <td>120</td>\n",
       "      <td>523</td>\n",
       "      <td>171</td>\n",
       "      <td>2012-01-01 01:08:58</td>\n",
       "      <td>0.224</td>\n",
       "      <td>0.751</td>\n",
       "    </tr>\n",
       "    <tr>\n",
       "      <th>2</th>\n",
       "      <td>Wishes For 2012 to Fall on Times Square</td>\n",
       "      <td>Some pretty cool confetti will rain down on Ne...</td>\n",
       "      <td>The wishes of thousands of people will flutter...</td>\n",
       "      <td>published_story</td>\n",
       "      <td>271</td>\n",
       "      <td>31</td>\n",
       "      <td>0</td>\n",
       "      <td>2012-01-01 02:00:37</td>\n",
       "      <td>0.582</td>\n",
       "      <td>0.000</td>\n",
       "    </tr>\n",
       "    <tr>\n",
       "      <th>3</th>\n",
       "      <td>Mitt Romney Vows to Veto Dream Act if President</td>\n",
       "      <td>NaN</td>\n",
       "      <td>Eric Gay/AP Photo SIOUX CITY, Iowa – Mitt Romn...</td>\n",
       "      <td>shared_story</td>\n",
       "      <td>140</td>\n",
       "      <td>188</td>\n",
       "      <td>23</td>\n",
       "      <td>2012-01-01 02:35:20</td>\n",
       "      <td>0.291</td>\n",
       "      <td>0.187</td>\n",
       "    </tr>\n",
       "    <tr>\n",
       "      <th>4</th>\n",
       "      <td>NY Pharmacy Shootout Leaves Suspect, ATF Agent...</td>\n",
       "      <td>The pharmacy was held up by a man seeking pres...</td>\n",
       "      <td>A shootout at a suburban New York family pharm...</td>\n",
       "      <td>shared_story</td>\n",
       "      <td>59</td>\n",
       "      <td>51</td>\n",
       "      <td>34</td>\n",
       "      <td>2012-01-01 03:36:01</td>\n",
       "      <td>0.051</td>\n",
       "      <td>0.269</td>\n",
       "    </tr>\n",
       "  </tbody>\n",
       "</table>\n",
       "</div>"
      ],
      "text/plain": [
       "                                                name  \\\n",
       "0  Chief Justice Roberts Responds to Judicial Eth...   \n",
       "1  With Reservations, Obama Signs Act to Allow De...   \n",
       "2            Wishes For 2012 to Fall on Times Square   \n",
       "3    Mitt Romney Vows to Veto Dream Act if President   \n",
       "4  NY Pharmacy Shootout Leaves Suspect, ATF Agent...   \n",
       "\n",
       "                                             message  \\\n",
       "0  Roberts took the unusual step of devoting the ...   \n",
       "1                     Do you agree with the new law?   \n",
       "2  Some pretty cool confetti will rain down on Ne...   \n",
       "3                                                NaN   \n",
       "4  The pharmacy was held up by a man seeking pres...   \n",
       "\n",
       "                                         description      status_type  \\\n",
       "0  PAUL J. RICHARDS/AFP/Getty Images Chief Justic...     shared_story   \n",
       "1  In his last official act of business in 2011, ...     shared_story   \n",
       "2  The wishes of thousands of people will flutter...  published_story   \n",
       "3  Eric Gay/AP Photo SIOUX CITY, Iowa – Mitt Romn...     shared_story   \n",
       "4  A shootout at a suburban New York family pharm...     shared_story   \n",
       "\n",
       "   likes_count  comments_count  shares_count                year  \\\n",
       "0           61              27            12 2012-01-01 00:30:26   \n",
       "1          120             523           171 2012-01-01 01:08:58   \n",
       "2          271              31             0 2012-01-01 02:00:37   \n",
       "3          140             188            23 2012-01-01 02:35:20   \n",
       "4           59              51            34 2012-01-01 03:36:01   \n",
       "\n",
       "   likes_percentile  shares_percentile  \n",
       "0             0.056              0.098  \n",
       "1             0.224              0.751  \n",
       "2             0.582              0.000  \n",
       "3             0.291              0.187  \n",
       "4             0.051              0.269  "
      ]
     },
     "execution_count": 3,
     "metadata": {},
     "output_type": "execute_result"
    }
   ],
   "source": [
    "fb_percentiles.head()"
   ]
  },
  {
   "cell_type": "code",
   "execution_count": 4,
   "metadata": {
    "collapsed": true
   },
   "outputs": [],
   "source": [
    "fb_percentiles['full_text'] = fb_percentiles['name'].map(str) + ' ' + fb_percentiles['message'].map(str) + ' ' + fb_percentiles['description'].map(str)"
   ]
  },
  {
   "cell_type": "code",
   "execution_count": 5,
   "metadata": {
    "collapsed": true
   },
   "outputs": [],
   "source": [
    "bins = [0,25,50,75,100]"
   ]
  },
  {
   "cell_type": "code",
   "execution_count": 24,
   "metadata": {
    "collapsed": true
   },
   "outputs": [],
   "source": [
    "group_names = ['Quartile 1','Quartile 2','Quartile 3','Quartile 4']"
   ]
  },
  {
   "cell_type": "code",
   "execution_count": 7,
   "metadata": {
    "collapsed": true
   },
   "outputs": [],
   "source": [
    "fb_percentiles_copy = fb_percentiles[['full_text','likes_count','shares_count','likes_percentile','shares_percentile']]"
   ]
  },
  {
   "cell_type": "code",
   "execution_count": 8,
   "metadata": {
    "scrolled": true
   },
   "outputs": [
    {
     "data": {
      "text/html": [
       "<div>\n",
       "<table border=\"1\" class=\"dataframe\">\n",
       "  <thead>\n",
       "    <tr style=\"text-align: right;\">\n",
       "      <th></th>\n",
       "      <th>full_text</th>\n",
       "      <th>likes_count</th>\n",
       "      <th>shares_count</th>\n",
       "      <th>likes_percentile</th>\n",
       "      <th>shares_percentile</th>\n",
       "    </tr>\n",
       "  </thead>\n",
       "  <tbody>\n",
       "    <tr>\n",
       "      <th>0</th>\n",
       "      <td>Chief Justice Roberts Responds to Judicial Eth...</td>\n",
       "      <td>61</td>\n",
       "      <td>12</td>\n",
       "      <td>0.056</td>\n",
       "      <td>0.098</td>\n",
       "    </tr>\n",
       "    <tr>\n",
       "      <th>1</th>\n",
       "      <td>With Reservations, Obama Signs Act to Allow De...</td>\n",
       "      <td>120</td>\n",
       "      <td>171</td>\n",
       "      <td>0.224</td>\n",
       "      <td>0.751</td>\n",
       "    </tr>\n",
       "    <tr>\n",
       "      <th>2</th>\n",
       "      <td>Wishes For 2012 to Fall on Times Square Some p...</td>\n",
       "      <td>271</td>\n",
       "      <td>0</td>\n",
       "      <td>0.582</td>\n",
       "      <td>0.000</td>\n",
       "    </tr>\n",
       "    <tr>\n",
       "      <th>3</th>\n",
       "      <td>Mitt Romney Vows to Veto Dream Act if Presiden...</td>\n",
       "      <td>140</td>\n",
       "      <td>23</td>\n",
       "      <td>0.291</td>\n",
       "      <td>0.187</td>\n",
       "    </tr>\n",
       "    <tr>\n",
       "      <th>4</th>\n",
       "      <td>NY Pharmacy Shootout Leaves Suspect, ATF Agent...</td>\n",
       "      <td>59</td>\n",
       "      <td>34</td>\n",
       "      <td>0.051</td>\n",
       "      <td>0.269</td>\n",
       "    </tr>\n",
       "  </tbody>\n",
       "</table>\n",
       "</div>"
      ],
      "text/plain": [
       "                                           full_text  likes_count  \\\n",
       "0  Chief Justice Roberts Responds to Judicial Eth...           61   \n",
       "1  With Reservations, Obama Signs Act to Allow De...          120   \n",
       "2  Wishes For 2012 to Fall on Times Square Some p...          271   \n",
       "3  Mitt Romney Vows to Veto Dream Act if Presiden...          140   \n",
       "4  NY Pharmacy Shootout Leaves Suspect, ATF Agent...           59   \n",
       "\n",
       "   shares_count  likes_percentile  shares_percentile  \n",
       "0            12             0.056              0.098  \n",
       "1           171             0.224              0.751  \n",
       "2             0             0.582              0.000  \n",
       "3            23             0.291              0.187  \n",
       "4            34             0.051              0.269  "
      ]
     },
     "execution_count": 8,
     "metadata": {},
     "output_type": "execute_result"
    }
   ],
   "source": [
    "fb_percentiles_copy.head()"
   ]
  },
  {
   "cell_type": "code",
   "execution_count": 9,
   "metadata": {},
   "outputs": [
    {
     "name": "stderr",
     "output_type": "stream",
     "text": [
      "/Users/harishprabhala/anaconda/lib/python3.6/site-packages/ipykernel/__main__.py:1: SettingWithCopyWarning: \n",
      "A value is trying to be set on a copy of a slice from a DataFrame.\n",
      "Try using .loc[row_indexer,col_indexer] = value instead\n",
      "\n",
      "See the caveats in the documentation: http://pandas.pydata.org/pandas-docs/stable/indexing.html#indexing-view-versus-copy\n",
      "  if __name__ == '__main__':\n",
      "/Users/harishprabhala/anaconda/lib/python3.6/site-packages/ipykernel/__main__.py:2: SettingWithCopyWarning: \n",
      "A value is trying to be set on a copy of a slice from a DataFrame.\n",
      "Try using .loc[row_indexer,col_indexer] = value instead\n",
      "\n",
      "See the caveats in the documentation: http://pandas.pydata.org/pandas-docs/stable/indexing.html#indexing-view-versus-copy\n",
      "  from ipykernel import kernelapp as app\n"
     ]
    }
   ],
   "source": [
    "fb_percentiles_copy['likes_percentile'] = fb_percentiles_copy['likes_percentile']*100\n",
    "fb_percentiles_copy['shares_percentile'] = fb_percentiles_copy['shares_percentile']*100"
   ]
  },
  {
   "cell_type": "code",
   "execution_count": 32,
   "metadata": {},
   "outputs": [
    {
     "name": "stderr",
     "output_type": "stream",
     "text": [
      "/Users/harishprabhala/anaconda/lib/python3.6/site-packages/ipykernel/__main__.py:1: SettingWithCopyWarning: \n",
      "A value is trying to be set on a copy of a slice from a DataFrame.\n",
      "Try using .loc[row_indexer,col_indexer] = value instead\n",
      "\n",
      "See the caveats in the documentation: http://pandas.pydata.org/pandas-docs/stable/indexing.html#indexing-view-versus-copy\n",
      "  if __name__ == '__main__':\n"
     ]
    }
   ],
   "source": [
    "fb_percentiles_copy['likes_class'] = fb_percentiles_copy['likes_class'].fillna('Quartile 1')"
   ]
  },
  {
   "cell_type": "code",
   "execution_count": 25,
   "metadata": {},
   "outputs": [
    {
     "name": "stderr",
     "output_type": "stream",
     "text": [
      "/Users/harishprabhala/anaconda/lib/python3.6/site-packages/ipykernel/__main__.py:2: SettingWithCopyWarning: \n",
      "A value is trying to be set on a copy of a slice from a DataFrame.\n",
      "Try using .loc[row_indexer,col_indexer] = value instead\n",
      "\n",
      "See the caveats in the documentation: http://pandas.pydata.org/pandas-docs/stable/indexing.html#indexing-view-versus-copy\n",
      "  from ipykernel import kernelapp as app\n"
     ]
    }
   ],
   "source": [
    "likes_categories = pd.cut(fb_percentiles_copy['likes_percentile'], bins, labels=group_names)\n",
    "fb_percentiles_copy['likes_class'] = likes_categories"
   ]
  },
  {
   "cell_type": "code",
   "execution_count": 33,
   "metadata": {
    "scrolled": true
   },
   "outputs": [
    {
     "data": {
      "text/html": [
       "<div>\n",
       "<table border=\"1\" class=\"dataframe\">\n",
       "  <thead>\n",
       "    <tr style=\"text-align: right;\">\n",
       "      <th></th>\n",
       "      <th>full_text</th>\n",
       "      <th>likes_count</th>\n",
       "      <th>shares_count</th>\n",
       "      <th>likes_percentile</th>\n",
       "      <th>shares_percentile</th>\n",
       "      <th>likes_class</th>\n",
       "    </tr>\n",
       "  </thead>\n",
       "  <tbody>\n",
       "    <tr>\n",
       "      <th>0</th>\n",
       "      <td>Chief Justice Roberts Responds to Judicial Eth...</td>\n",
       "      <td>61</td>\n",
       "      <td>12</td>\n",
       "      <td>5.6</td>\n",
       "      <td>9.8</td>\n",
       "      <td>Quartile 1</td>\n",
       "    </tr>\n",
       "    <tr>\n",
       "      <th>1</th>\n",
       "      <td>With Reservations, Obama Signs Act to Allow De...</td>\n",
       "      <td>120</td>\n",
       "      <td>171</td>\n",
       "      <td>22.4</td>\n",
       "      <td>75.1</td>\n",
       "      <td>Quartile 1</td>\n",
       "    </tr>\n",
       "    <tr>\n",
       "      <th>2</th>\n",
       "      <td>Wishes For 2012 to Fall on Times Square Some p...</td>\n",
       "      <td>271</td>\n",
       "      <td>0</td>\n",
       "      <td>58.2</td>\n",
       "      <td>0.0</td>\n",
       "      <td>Quartile 3</td>\n",
       "    </tr>\n",
       "    <tr>\n",
       "      <th>3</th>\n",
       "      <td>Mitt Romney Vows to Veto Dream Act if Presiden...</td>\n",
       "      <td>140</td>\n",
       "      <td>23</td>\n",
       "      <td>29.1</td>\n",
       "      <td>18.7</td>\n",
       "      <td>Quartile 2</td>\n",
       "    </tr>\n",
       "    <tr>\n",
       "      <th>4</th>\n",
       "      <td>NY Pharmacy Shootout Leaves Suspect, ATF Agent...</td>\n",
       "      <td>59</td>\n",
       "      <td>34</td>\n",
       "      <td>5.1</td>\n",
       "      <td>26.9</td>\n",
       "      <td>Quartile 1</td>\n",
       "    </tr>\n",
       "  </tbody>\n",
       "</table>\n",
       "</div>"
      ],
      "text/plain": [
       "                                           full_text  likes_count  \\\n",
       "0  Chief Justice Roberts Responds to Judicial Eth...           61   \n",
       "1  With Reservations, Obama Signs Act to Allow De...          120   \n",
       "2  Wishes For 2012 to Fall on Times Square Some p...          271   \n",
       "3  Mitt Romney Vows to Veto Dream Act if Presiden...          140   \n",
       "4  NY Pharmacy Shootout Leaves Suspect, ATF Agent...           59   \n",
       "\n",
       "   shares_count  likes_percentile  shares_percentile likes_class  \n",
       "0            12               5.6                9.8  Quartile 1  \n",
       "1           171              22.4               75.1  Quartile 1  \n",
       "2             0              58.2                0.0  Quartile 3  \n",
       "3            23              29.1               18.7  Quartile 2  \n",
       "4            34               5.1               26.9  Quartile 1  "
      ]
     },
     "execution_count": 33,
     "metadata": {},
     "output_type": "execute_result"
    }
   ],
   "source": [
    "fb_percentiles_copy.head()"
   ]
  },
  {
   "cell_type": "code",
   "execution_count": 111,
   "metadata": {},
   "outputs": [
    {
     "data": {
      "text/plain": [
       "Quartile 2    129675\n",
       "Quartile 1    127515\n",
       "Quartile 3    124126\n",
       "Quartile 4    121498\n",
       "Name: likes_class, dtype: int64"
      ]
     },
     "execution_count": 111,
     "metadata": {},
     "output_type": "execute_result"
    }
   ],
   "source": [
    "fb_percentiles_copy['likes_class'].value_counts()"
   ]
  },
  {
   "cell_type": "code",
   "execution_count": 12,
   "metadata": {},
   "outputs": [
    {
     "name": "stderr",
     "output_type": "stream",
     "text": [
      "/Users/harishprabhala/anaconda/lib/python3.6/site-packages/sklearn/cross_validation.py:44: DeprecationWarning: This module was deprecated in version 0.18 in favor of the model_selection module into which all the refactored classes and functions are moved. Also note that the interface of the new CV iterators are different from that of this module. This module will be removed in 0.20.\n",
      "  \"This module will be removed in 0.20.\", DeprecationWarning)\n"
     ]
    }
   ],
   "source": [
    "from sklearn.cross_validation import train_test_split\n",
    "from sklearn import metrics\n",
    "from sklearn.naive_bayes import MultinomialNB\n",
    "from sklearn import linear_model\n",
    "from sklearn.metrics import recall_score\n",
    "from sklearn.metrics import accuracy_score\n",
    "from sklearn.model_selection import KFold\n",
    "from sklearn.metrics import classification_report"
   ]
  },
  {
   "cell_type": "code",
   "execution_count": 13,
   "metadata": {
    "collapsed": true
   },
   "outputs": [],
   "source": [
    "from sklearn.feature_selection import SelectKBest\n",
    "from sklearn.feature_selection import chi2"
   ]
  },
  {
   "cell_type": "code",
   "execution_count": 14,
   "metadata": {},
   "outputs": [
    {
     "name": "stdout",
     "output_type": "stream",
     "text": [
      "[nltk_data] Downloading package punkt to\n",
      "[nltk_data]     /Users/harishprabhala/nltk_data...\n",
      "[nltk_data]   Package punkt is already up-to-date!\n"
     ]
    }
   ],
   "source": [
    "nltk.download('punkt')\n",
    "from nltk.tokenize import sent_tokenize, word_tokenize\n",
    "from nltk.stem import WordNetLemmatizer\n",
    "from nltk.corpus import stopwords\n",
    "from nltk import FreqDist\n",
    "from nltk.tokenize import RegexpTokenizer\n",
    "import re\n",
    "import gensim.parsing.preprocessing as process"
   ]
  },
  {
   "cell_type": "code",
   "execution_count": 15,
   "metadata": {
    "collapsed": true
   },
   "outputs": [],
   "source": [
    "lemmatizer = WordNetLemmatizer()"
   ]
  },
  {
   "cell_type": "code",
   "execution_count": 16,
   "metadata": {
    "collapsed": true
   },
   "outputs": [],
   "source": [
    "def preprocess (line):\n",
    "    line = re.sub(r\"http\\S+\", \"\", line)\n",
    "    line = line.lower()\n",
    "    line = process.remove_stopwords(line)\n",
    "    line = process.strip_numeric(line)\n",
    "    line = process.strip_punctuation(line)\n",
    "    line = process.strip_short(line)\n",
    "    line = process.strip_multiple_whitespaces(line)\n",
    "    tokens = sent_tokenize(line)\n",
    "    stemmed = [w for w in tokens if lemmatizer.lemmatize(w)] \n",
    "    return ' '.join(stemmed)"
   ]
  },
  {
   "cell_type": "code",
   "execution_count": 17,
   "metadata": {
    "collapsed": true
   },
   "outputs": [],
   "source": [
    "text = []\n",
    "for w in fb_percentiles_copy['full_text']:\n",
    "    text.append(preprocess(w))"
   ]
  },
  {
   "cell_type": "code",
   "execution_count": 34,
   "metadata": {
    "collapsed": true
   },
   "outputs": [],
   "source": [
    "X,y = text, fb_percentiles_copy['likes_class']"
   ]
  },
  {
   "cell_type": "code",
   "execution_count": 19,
   "metadata": {
    "collapsed": true
   },
   "outputs": [],
   "source": [
    "from sklearn.feature_extraction.text import TfidfTransformer\n",
    "from sklearn.feature_extraction.text import CountVectorizer"
   ]
  },
  {
   "cell_type": "code",
   "execution_count": 149,
   "metadata": {
    "collapsed": true
   },
   "outputs": [],
   "source": [
    "vectorizer = CountVectorizer(lowercase=True,stop_words='english')\n",
    "X_1 = vectorizer.fit_transform(X)"
   ]
  },
  {
   "cell_type": "code",
   "execution_count": 150,
   "metadata": {},
   "outputs": [
    {
     "data": {
      "text/plain": [
       "((502814, 142431), (502814,))"
      ]
     },
     "execution_count": 150,
     "metadata": {},
     "output_type": "execute_result"
    }
   ],
   "source": [
    "X_1.shape, y.shape"
   ]
  },
  {
   "cell_type": "code",
   "execution_count": 36,
   "metadata": {},
   "outputs": [],
   "source": [
    "score = chi2(X_1,y)"
   ]
  },
  {
   "cell_type": "code",
   "execution_count": 161,
   "metadata": {},
   "outputs": [],
   "source": [
    "X_new = SelectKBest(chi2, k=26000).fit_transform(X_1, y)"
   ]
  },
  {
   "cell_type": "code",
   "execution_count": 162,
   "metadata": {},
   "outputs": [
    {
     "data": {
      "text/plain": [
       "(502814, 26000)"
      ]
     },
     "execution_count": 162,
     "metadata": {},
     "output_type": "execute_result"
    }
   ],
   "source": [
    "X_new.shape"
   ]
  },
  {
   "cell_type": "code",
   "execution_count": 49,
   "metadata": {
    "collapsed": true
   },
   "outputs": [],
   "source": [
    "from sklearn.linear_model import LogisticRegression"
   ]
  },
  {
   "cell_type": "code",
   "execution_count": 163,
   "metadata": {
    "collapsed": true
   },
   "outputs": [],
   "source": [
    "X_train, X_test, Y_train, Y_test = train_test_split(X_new, y, test_size=0.33)"
   ]
  },
  {
   "cell_type": "code",
   "execution_count": 164,
   "metadata": {},
   "outputs": [
    {
     "data": {
      "text/plain": [
       "((336885, 26000), (165929, 26000), (336885,), (165929,))"
      ]
     },
     "execution_count": 164,
     "metadata": {},
     "output_type": "execute_result"
    }
   ],
   "source": [
    "X_train.shape, X_test.shape, Y_train.shape, Y_test.shape"
   ]
  },
  {
   "cell_type": "code",
   "execution_count": 138,
   "metadata": {},
   "outputs": [
    {
     "name": "stdout",
     "output_type": "stream",
     "text": [
      "Accuracy of test data:  0.373762271815\n",
      "Accuracy of training data:  0.392682963029\n",
      "\n",
      "\n",
      "Classification report summary of Multinomial Logistic Regression\n",
      "             precision    recall  f1-score   support\n",
      "\n",
      " Quartile 1       0.50      0.41      0.45     51110\n",
      " Quartile 2       0.29      0.31      0.30     40521\n",
      " Quartile 3       0.19      0.30      0.23     27019\n",
      " Quartile 4       0.51      0.43      0.47     47279\n",
      "\n",
      "avg / total       0.40      0.37      0.38    165929\n",
      "\n"
     ]
    }
   ],
   "source": [
    "logit=LogisticRegression(multi_class='multinomial', solver='sag',C=10)\n",
    "logit.fit(X_train,Y_train)\n",
    "print ('Accuracy of test data: ',(accuracy_score(logit.predict(X_test), Y_test)))\n",
    "print ('Accuracy of training data: ',(accuracy_score(logit.predict(X_train), Y_train)))\n",
    "print(\"\\n\")\n",
    "print ('Classification report summary of Multinomial Logistic Regression')\n",
    "print(classification_report(logit.predict(X_test), Y_test))"
   ]
  },
  {
   "cell_type": "code",
   "execution_count": 63,
   "metadata": {
    "collapsed": true
   },
   "outputs": [],
   "source": [
    "from sklearn.metrics import confusion_matrix"
   ]
  },
  {
   "cell_type": "code",
   "execution_count": 65,
   "metadata": {
    "collapsed": true
   },
   "outputs": [],
   "source": [
    "y_true = np.array(Y_test)\n",
    "y_pred = np.array(logit.predict(X_test))"
   ]
  },
  {
   "cell_type": "code",
   "execution_count": 67,
   "metadata": {},
   "outputs": [],
   "source": [
    "conf_matrix = confusion_matrix(y_true, y_pred)"
   ]
  },
  {
   "cell_type": "code",
   "execution_count": 112,
   "metadata": {
    "collapsed": true
   },
   "outputs": [],
   "source": [
    "from sklearn.metrics import f1_score"
   ]
  },
  {
   "cell_type": "code",
   "execution_count": 115,
   "metadata": {},
   "outputs": [
    {
     "data": {
      "text/plain": [
       "0.38247767877828526"
      ]
     },
     "execution_count": 115,
     "metadata": {},
     "output_type": "execute_result"
    }
   ],
   "source": [
    "f1_score(y_true, y_pred, average='weighted') "
   ]
  },
  {
   "cell_type": "code",
   "execution_count": 165,
   "metadata": {},
   "outputs": [
    {
     "name": "stdout",
     "output_type": "stream",
     "text": [
      "Accuracy of test data:  0.395090671311\n",
      "Accuracy of training data:  0.446564851507\n",
      "\n",
      "\n",
      "Classification report summary of MultinomialDB with alpha = 0.01:\n",
      "             precision    recall  f1-score   support\n",
      "\n",
      " Quartile 1       0.50      0.45      0.47     47092\n",
      " Quartile 2       0.28      0.34      0.31     34580\n",
      " Quartile 3       0.23      0.33      0.27     28557\n",
      " Quartile 4       0.58      0.42      0.49     55700\n",
      "\n",
      "avg / total       0.43      0.40      0.41    165929\n",
      "\n"
     ]
    }
   ],
   "source": [
    "clf2=MultinomialNB(alpha=0.01)\n",
    "clf2.fit(X_train,Y_train)\n",
    "print ('Accuracy of test data: ',(accuracy_score(clf2.predict(X_test), Y_test)))\n",
    "print ('Accuracy of training data: ',(accuracy_score(clf2.predict(X_train), Y_train)))\n",
    "print(\"\\n\")\n",
    "print ('Classification report summary of MultinomialDB with alpha = 0.01:')\n",
    "print(classification_report(clf2.predict(X_test), Y_test))"
   ]
  },
  {
   "cell_type": "code",
   "execution_count": null,
   "metadata": {
    "collapsed": true
   },
   "outputs": [],
   "source": []
  }
 ],
 "metadata": {
  "kernelspec": {
   "display_name": "Python 3",
   "language": "python",
   "name": "python3"
  },
  "language_info": {
   "codemirror_mode": {
    "name": "ipython",
    "version": 3
   },
   "file_extension": ".py",
   "mimetype": "text/x-python",
   "name": "python",
   "nbconvert_exporter": "python",
   "pygments_lexer": "ipython3",
   "version": "3.6.0"
  }
 },
 "nbformat": 4,
 "nbformat_minor": 2
}

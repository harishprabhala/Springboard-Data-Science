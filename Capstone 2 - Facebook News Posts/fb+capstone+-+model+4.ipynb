{
 "cells": [
  {
   "cell_type": "code",
   "execution_count": 1,
   "metadata": {
    "collapsed": true
   },
   "outputs": [],
   "source": [
    "%matplotlib inline\n",
    "import numpy as np\n",
    "import pandas as pd\n",
    "import nltk\n",
    "import string\n",
    "import matplotlib.pyplot as plt"
   ]
  },
  {
   "cell_type": "code",
   "execution_count": 2,
   "metadata": {
    "collapsed": true
   },
   "outputs": [],
   "source": [
    "fb_percentiles = pd.read_excel('/Users/harishprabhala/Downloads/martinchek-2012-2016-facebook-posts/fb_posts_percentiles.xlsx')"
   ]
  },
  {
   "cell_type": "code",
   "execution_count": 4,
   "metadata": {},
   "outputs": [
    {
     "data": {
      "text/html": [
       "<div>\n",
       "<table border=\"1\" class=\"dataframe\">\n",
       "  <thead>\n",
       "    <tr style=\"text-align: right;\">\n",
       "      <th></th>\n",
       "      <th>name</th>\n",
       "      <th>message</th>\n",
       "      <th>description</th>\n",
       "      <th>status_type</th>\n",
       "      <th>likes_count</th>\n",
       "      <th>comments_count</th>\n",
       "      <th>shares_count</th>\n",
       "      <th>year</th>\n",
       "      <th>likes_percentile</th>\n",
       "      <th>shares_percentile</th>\n",
       "    </tr>\n",
       "  </thead>\n",
       "  <tbody>\n",
       "    <tr>\n",
       "      <th>0</th>\n",
       "      <td>Chief Justice Roberts Responds to Judicial Eth...</td>\n",
       "      <td>Roberts took the unusual step of devoting the ...</td>\n",
       "      <td>PAUL J. RICHARDS/AFP/Getty Images Chief Justic...</td>\n",
       "      <td>shared_story</td>\n",
       "      <td>61</td>\n",
       "      <td>27</td>\n",
       "      <td>12</td>\n",
       "      <td>2012-01-01 00:30:26</td>\n",
       "      <td>0.056</td>\n",
       "      <td>0.098</td>\n",
       "    </tr>\n",
       "    <tr>\n",
       "      <th>1</th>\n",
       "      <td>With Reservations, Obama Signs Act to Allow De...</td>\n",
       "      <td>Do you agree with the new law?</td>\n",
       "      <td>In his last official act of business in 2011, ...</td>\n",
       "      <td>shared_story</td>\n",
       "      <td>120</td>\n",
       "      <td>523</td>\n",
       "      <td>171</td>\n",
       "      <td>2012-01-01 01:08:58</td>\n",
       "      <td>0.224</td>\n",
       "      <td>0.751</td>\n",
       "    </tr>\n",
       "    <tr>\n",
       "      <th>2</th>\n",
       "      <td>Wishes For 2012 to Fall on Times Square</td>\n",
       "      <td>Some pretty cool confetti will rain down on Ne...</td>\n",
       "      <td>The wishes of thousands of people will flutter...</td>\n",
       "      <td>published_story</td>\n",
       "      <td>271</td>\n",
       "      <td>31</td>\n",
       "      <td>0</td>\n",
       "      <td>2012-01-01 02:00:37</td>\n",
       "      <td>0.582</td>\n",
       "      <td>0.000</td>\n",
       "    </tr>\n",
       "    <tr>\n",
       "      <th>3</th>\n",
       "      <td>Mitt Romney Vows to Veto Dream Act if President</td>\n",
       "      <td>NaN</td>\n",
       "      <td>Eric Gay/AP Photo SIOUX CITY, Iowa – Mitt Romn...</td>\n",
       "      <td>shared_story</td>\n",
       "      <td>140</td>\n",
       "      <td>188</td>\n",
       "      <td>23</td>\n",
       "      <td>2012-01-01 02:35:20</td>\n",
       "      <td>0.291</td>\n",
       "      <td>0.187</td>\n",
       "    </tr>\n",
       "    <tr>\n",
       "      <th>4</th>\n",
       "      <td>NY Pharmacy Shootout Leaves Suspect, ATF Agent...</td>\n",
       "      <td>The pharmacy was held up by a man seeking pres...</td>\n",
       "      <td>A shootout at a suburban New York family pharm...</td>\n",
       "      <td>shared_story</td>\n",
       "      <td>59</td>\n",
       "      <td>51</td>\n",
       "      <td>34</td>\n",
       "      <td>2012-01-01 03:36:01</td>\n",
       "      <td>0.051</td>\n",
       "      <td>0.269</td>\n",
       "    </tr>\n",
       "  </tbody>\n",
       "</table>\n",
       "</div>"
      ],
      "text/plain": [
       "                                                name  \\\n",
       "0  Chief Justice Roberts Responds to Judicial Eth...   \n",
       "1  With Reservations, Obama Signs Act to Allow De...   \n",
       "2            Wishes For 2012 to Fall on Times Square   \n",
       "3    Mitt Romney Vows to Veto Dream Act if President   \n",
       "4  NY Pharmacy Shootout Leaves Suspect, ATF Agent...   \n",
       "\n",
       "                                             message  \\\n",
       "0  Roberts took the unusual step of devoting the ...   \n",
       "1                     Do you agree with the new law?   \n",
       "2  Some pretty cool confetti will rain down on Ne...   \n",
       "3                                                NaN   \n",
       "4  The pharmacy was held up by a man seeking pres...   \n",
       "\n",
       "                                         description      status_type  \\\n",
       "0  PAUL J. RICHARDS/AFP/Getty Images Chief Justic...     shared_story   \n",
       "1  In his last official act of business in 2011, ...     shared_story   \n",
       "2  The wishes of thousands of people will flutter...  published_story   \n",
       "3  Eric Gay/AP Photo SIOUX CITY, Iowa – Mitt Romn...     shared_story   \n",
       "4  A shootout at a suburban New York family pharm...     shared_story   \n",
       "\n",
       "   likes_count  comments_count  shares_count                year  \\\n",
       "0           61              27            12 2012-01-01 00:30:26   \n",
       "1          120             523           171 2012-01-01 01:08:58   \n",
       "2          271              31             0 2012-01-01 02:00:37   \n",
       "3          140             188            23 2012-01-01 02:35:20   \n",
       "4           59              51            34 2012-01-01 03:36:01   \n",
       "\n",
       "   likes_percentile  shares_percentile  \n",
       "0             0.056              0.098  \n",
       "1             0.224              0.751  \n",
       "2             0.582              0.000  \n",
       "3             0.291              0.187  \n",
       "4             0.051              0.269  "
      ]
     },
     "execution_count": 4,
     "metadata": {},
     "output_type": "execute_result"
    }
   ],
   "source": [
    "fb_percentiles.head()"
   ]
  },
  {
   "cell_type": "code",
   "execution_count": 15,
   "metadata": {},
   "outputs": [],
   "source": [
    "fb_percentiles_copy = fb_percentiles[fb_percentiles.likes_percentile > 0.75]"
   ]
  },
  {
   "cell_type": "code",
   "execution_count": 16,
   "metadata": {},
   "outputs": [
    {
     "name": "stdout",
     "output_type": "stream",
     "text": [
      "<class 'pandas.core.frame.DataFrame'>\n",
      "Int64Index: 121498 entries, 5 to 502812\n",
      "Data columns (total 10 columns):\n",
      "name                 114001 non-null object\n",
      "message              119810 non-null object\n",
      "description          85211 non-null object\n",
      "status_type          121491 non-null object\n",
      "likes_count          121498 non-null int64\n",
      "comments_count       121498 non-null int64\n",
      "shares_count         121498 non-null int64\n",
      "year                 121498 non-null datetime64[ns]\n",
      "likes_percentile     121498 non-null float64\n",
      "shares_percentile    121497 non-null float64\n",
      "dtypes: datetime64[ns](1), float64(2), int64(3), object(4)\n",
      "memory usage: 10.2+ MB\n"
     ]
    }
   ],
   "source": [
    "fb_percentiles_copy.info()"
   ]
  },
  {
   "cell_type": "code",
   "execution_count": 17,
   "metadata": {},
   "outputs": [
    {
     "data": {
      "text/html": [
       "<div>\n",
       "<table border=\"1\" class=\"dataframe\">\n",
       "  <thead>\n",
       "    <tr style=\"text-align: right;\">\n",
       "      <th></th>\n",
       "      <th>name</th>\n",
       "      <th>message</th>\n",
       "      <th>description</th>\n",
       "      <th>status_type</th>\n",
       "      <th>likes_count</th>\n",
       "      <th>comments_count</th>\n",
       "      <th>shares_count</th>\n",
       "      <th>year</th>\n",
       "      <th>likes_percentile</th>\n",
       "      <th>shares_percentile</th>\n",
       "    </tr>\n",
       "  </thead>\n",
       "  <tbody>\n",
       "    <tr>\n",
       "      <th>5</th>\n",
       "      <td>The World Rings in 2012</td>\n",
       "      <td>NaN</td>\n",
       "      <td>Around the world, countries celebrate the n...</td>\n",
       "      <td>shared_story</td>\n",
       "      <td>498</td>\n",
       "      <td>52</td>\n",
       "      <td>108</td>\n",
       "      <td>2012-01-01 04:13:32</td>\n",
       "      <td>0.773</td>\n",
       "      <td>0.616</td>\n",
       "    </tr>\n",
       "    <tr>\n",
       "      <th>34</th>\n",
       "      <td>Michele Bachmann Drops Out of Presidential Race</td>\n",
       "      <td>Rep. Michele Bachmann has suspended her presid...</td>\n",
       "      <td>“Last night, the people of Iowa spoke with a v...</td>\n",
       "      <td>shared_story</td>\n",
       "      <td>490</td>\n",
       "      <td>197</td>\n",
       "      <td>61</td>\n",
       "      <td>2012-01-04 17:13:29</td>\n",
       "      <td>0.770</td>\n",
       "      <td>0.428</td>\n",
       "    </tr>\n",
       "    <tr>\n",
       "      <th>38</th>\n",
       "      <td>Teen Mom Kills Intruder After 911 Call</td>\n",
       "      <td>The mother went through with it after her 911 ...</td>\n",
       "      <td>Teen mom shot and killed intruder to protect h...</td>\n",
       "      <td>shared_story</td>\n",
       "      <td>1702</td>\n",
       "      <td>485</td>\n",
       "      <td>495</td>\n",
       "      <td>2012-01-04 21:58:08</td>\n",
       "      <td>0.957</td>\n",
       "      <td>0.936</td>\n",
       "    </tr>\n",
       "    <tr>\n",
       "      <th>123</th>\n",
       "      <td>ESPN Sports Poll: Tim Tebow is America’s favor...</td>\n",
       "      <td>Tim Tebow has joined the elite ranks of Michae...</td>\n",
       "      <td>In 18 years of monthly ESPN sports polling — t...</td>\n",
       "      <td>shared_story</td>\n",
       "      <td>624</td>\n",
       "      <td>195</td>\n",
       "      <td>115</td>\n",
       "      <td>2012-01-11 19:45:59</td>\n",
       "      <td>0.824</td>\n",
       "      <td>0.637</td>\n",
       "    </tr>\n",
       "    <tr>\n",
       "      <th>130</th>\n",
       "      <td>Support for 'Bald Barbie' Swells on Facebook</td>\n",
       "      <td>Do you think a new Barbie should lose her lock...</td>\n",
       "      <td>A Facebook movement to urge Mattel to produce ...</td>\n",
       "      <td>shared_story</td>\n",
       "      <td>1370</td>\n",
       "      <td>443</td>\n",
       "      <td>286</td>\n",
       "      <td>2012-01-12 15:55:04</td>\n",
       "      <td>0.939</td>\n",
       "      <td>0.860</td>\n",
       "    </tr>\n",
       "  </tbody>\n",
       "</table>\n",
       "</div>"
      ],
      "text/plain": [
       "                                                  name  \\\n",
       "5                              The World Rings in 2012   \n",
       "34     Michele Bachmann Drops Out of Presidential Race   \n",
       "38              Teen Mom Kills Intruder After 911 Call   \n",
       "123  ESPN Sports Poll: Tim Tebow is America’s favor...   \n",
       "130       Support for 'Bald Barbie' Swells on Facebook   \n",
       "\n",
       "                                               message  \\\n",
       "5                                                  NaN   \n",
       "34   Rep. Michele Bachmann has suspended her presid...   \n",
       "38   The mother went through with it after her 911 ...   \n",
       "123  Tim Tebow has joined the elite ranks of Michae...   \n",
       "130  Do you think a new Barbie should lose her lock...   \n",
       "\n",
       "                                           description   status_type  \\\n",
       "5       Around the world, countries celebrate the n...  shared_story   \n",
       "34   “Last night, the people of Iowa spoke with a v...  shared_story   \n",
       "38   Teen mom shot and killed intruder to protect h...  shared_story   \n",
       "123  In 18 years of monthly ESPN sports polling — t...  shared_story   \n",
       "130  A Facebook movement to urge Mattel to produce ...  shared_story   \n",
       "\n",
       "     likes_count  comments_count  shares_count                year  \\\n",
       "5            498              52           108 2012-01-01 04:13:32   \n",
       "34           490             197            61 2012-01-04 17:13:29   \n",
       "38          1702             485           495 2012-01-04 21:58:08   \n",
       "123          624             195           115 2012-01-11 19:45:59   \n",
       "130         1370             443           286 2012-01-12 15:55:04   \n",
       "\n",
       "     likes_percentile  shares_percentile  \n",
       "5               0.773              0.616  \n",
       "34              0.770              0.428  \n",
       "38              0.957              0.936  \n",
       "123             0.824              0.637  \n",
       "130             0.939              0.860  "
      ]
     },
     "execution_count": 17,
     "metadata": {},
     "output_type": "execute_result"
    }
   ],
   "source": [
    "fb_percentiles_copy.head()"
   ]
  },
  {
   "cell_type": "code",
   "execution_count": 18,
   "metadata": {},
   "outputs": [
    {
     "name": "stderr",
     "output_type": "stream",
     "text": [
      "/Users/harishprabhala/anaconda/lib/python3.6/site-packages/ipykernel/__main__.py:1: SettingWithCopyWarning: \n",
      "A value is trying to be set on a copy of a slice from a DataFrame.\n",
      "Try using .loc[row_indexer,col_indexer] = value instead\n",
      "\n",
      "See the caveats in the documentation: http://pandas.pydata.org/pandas-docs/stable/indexing.html#indexing-view-versus-copy\n",
      "  if __name__ == '__main__':\n"
     ]
    }
   ],
   "source": [
    "fb_percentiles_copy['full_text'] = fb_percentiles['name'].map(str) + ' ' + fb_percentiles['message'].map(str) + ' ' + fb_percentiles['description'].map(str)"
   ]
  },
  {
   "cell_type": "code",
   "execution_count": 20,
   "metadata": {},
   "outputs": [],
   "source": [
    "fb_percentiles_copy = fb_percentiles_copy[['full_text','likes_count','shares_count','likes_percentile','shares_percentile']]"
   ]
  },
  {
   "cell_type": "code",
   "execution_count": 21,
   "metadata": {},
   "outputs": [
    {
     "data": {
      "text/html": [
       "<div>\n",
       "<table border=\"1\" class=\"dataframe\">\n",
       "  <thead>\n",
       "    <tr style=\"text-align: right;\">\n",
       "      <th></th>\n",
       "      <th>full_text</th>\n",
       "      <th>likes_count</th>\n",
       "      <th>shares_count</th>\n",
       "      <th>likes_percentile</th>\n",
       "      <th>shares_percentile</th>\n",
       "    </tr>\n",
       "  </thead>\n",
       "  <tbody>\n",
       "    <tr>\n",
       "      <th>5</th>\n",
       "      <td>The World Rings in 2012 nan    Around the worl...</td>\n",
       "      <td>498</td>\n",
       "      <td>108</td>\n",
       "      <td>0.773</td>\n",
       "      <td>0.616</td>\n",
       "    </tr>\n",
       "    <tr>\n",
       "      <th>34</th>\n",
       "      <td>Michele Bachmann Drops Out of Presidential Rac...</td>\n",
       "      <td>490</td>\n",
       "      <td>61</td>\n",
       "      <td>0.770</td>\n",
       "      <td>0.428</td>\n",
       "    </tr>\n",
       "    <tr>\n",
       "      <th>38</th>\n",
       "      <td>Teen Mom Kills Intruder After 911 Call The mot...</td>\n",
       "      <td>1702</td>\n",
       "      <td>495</td>\n",
       "      <td>0.957</td>\n",
       "      <td>0.936</td>\n",
       "    </tr>\n",
       "    <tr>\n",
       "      <th>123</th>\n",
       "      <td>ESPN Sports Poll: Tim Tebow is America’s favor...</td>\n",
       "      <td>624</td>\n",
       "      <td>115</td>\n",
       "      <td>0.824</td>\n",
       "      <td>0.637</td>\n",
       "    </tr>\n",
       "    <tr>\n",
       "      <th>130</th>\n",
       "      <td>Support for 'Bald Barbie' Swells on Facebook D...</td>\n",
       "      <td>1370</td>\n",
       "      <td>286</td>\n",
       "      <td>0.939</td>\n",
       "      <td>0.860</td>\n",
       "    </tr>\n",
       "  </tbody>\n",
       "</table>\n",
       "</div>"
      ],
      "text/plain": [
       "                                             full_text  likes_count  \\\n",
       "5    The World Rings in 2012 nan    Around the worl...          498   \n",
       "34   Michele Bachmann Drops Out of Presidential Rac...          490   \n",
       "38   Teen Mom Kills Intruder After 911 Call The mot...         1702   \n",
       "123  ESPN Sports Poll: Tim Tebow is America’s favor...          624   \n",
       "130  Support for 'Bald Barbie' Swells on Facebook D...         1370   \n",
       "\n",
       "     shares_count  likes_percentile  shares_percentile  \n",
       "5             108             0.773              0.616  \n",
       "34             61             0.770              0.428  \n",
       "38            495             0.957              0.936  \n",
       "123           115             0.824              0.637  \n",
       "130           286             0.939              0.860  "
      ]
     },
     "execution_count": 21,
     "metadata": {},
     "output_type": "execute_result"
    }
   ],
   "source": [
    "fb_percentiles_copy.head()"
   ]
  },
  {
   "cell_type": "code",
   "execution_count": 22,
   "metadata": {
    "collapsed": true
   },
   "outputs": [],
   "source": [
    "fb_percentiles_copy['likes_class'] = fb_percentiles_copy['likes_percentile'].apply(lambda x: '1' if x > 0.87 else '0') "
   ]
  },
  {
   "cell_type": "code",
   "execution_count": 23,
   "metadata": {},
   "outputs": [
    {
     "data": {
      "text/html": [
       "<div>\n",
       "<table border=\"1\" class=\"dataframe\">\n",
       "  <thead>\n",
       "    <tr style=\"text-align: right;\">\n",
       "      <th></th>\n",
       "      <th>full_text</th>\n",
       "      <th>likes_count</th>\n",
       "      <th>shares_count</th>\n",
       "      <th>likes_percentile</th>\n",
       "      <th>shares_percentile</th>\n",
       "      <th>likes_class</th>\n",
       "    </tr>\n",
       "  </thead>\n",
       "  <tbody>\n",
       "    <tr>\n",
       "      <th>5</th>\n",
       "      <td>The World Rings in 2012 nan    Around the worl...</td>\n",
       "      <td>498</td>\n",
       "      <td>108</td>\n",
       "      <td>0.773</td>\n",
       "      <td>0.616</td>\n",
       "      <td>0</td>\n",
       "    </tr>\n",
       "    <tr>\n",
       "      <th>34</th>\n",
       "      <td>Michele Bachmann Drops Out of Presidential Rac...</td>\n",
       "      <td>490</td>\n",
       "      <td>61</td>\n",
       "      <td>0.770</td>\n",
       "      <td>0.428</td>\n",
       "      <td>0</td>\n",
       "    </tr>\n",
       "    <tr>\n",
       "      <th>38</th>\n",
       "      <td>Teen Mom Kills Intruder After 911 Call The mot...</td>\n",
       "      <td>1702</td>\n",
       "      <td>495</td>\n",
       "      <td>0.957</td>\n",
       "      <td>0.936</td>\n",
       "      <td>1</td>\n",
       "    </tr>\n",
       "    <tr>\n",
       "      <th>123</th>\n",
       "      <td>ESPN Sports Poll: Tim Tebow is America’s favor...</td>\n",
       "      <td>624</td>\n",
       "      <td>115</td>\n",
       "      <td>0.824</td>\n",
       "      <td>0.637</td>\n",
       "      <td>0</td>\n",
       "    </tr>\n",
       "    <tr>\n",
       "      <th>130</th>\n",
       "      <td>Support for 'Bald Barbie' Swells on Facebook D...</td>\n",
       "      <td>1370</td>\n",
       "      <td>286</td>\n",
       "      <td>0.939</td>\n",
       "      <td>0.860</td>\n",
       "      <td>1</td>\n",
       "    </tr>\n",
       "  </tbody>\n",
       "</table>\n",
       "</div>"
      ],
      "text/plain": [
       "                                             full_text  likes_count  \\\n",
       "5    The World Rings in 2012 nan    Around the worl...          498   \n",
       "34   Michele Bachmann Drops Out of Presidential Rac...          490   \n",
       "38   Teen Mom Kills Intruder After 911 Call The mot...         1702   \n",
       "123  ESPN Sports Poll: Tim Tebow is America’s favor...          624   \n",
       "130  Support for 'Bald Barbie' Swells on Facebook D...         1370   \n",
       "\n",
       "     shares_count  likes_percentile  shares_percentile likes_class  \n",
       "5             108             0.773              0.616           0  \n",
       "34             61             0.770              0.428           0  \n",
       "38            495             0.957              0.936           1  \n",
       "123           115             0.824              0.637           0  \n",
       "130           286             0.939              0.860           1  "
      ]
     },
     "execution_count": 23,
     "metadata": {},
     "output_type": "execute_result"
    }
   ],
   "source": [
    "fb_percentiles_copy.head()"
   ]
  },
  {
   "cell_type": "code",
   "execution_count": 30,
   "metadata": {},
   "outputs": [
    {
     "data": {
      "text/plain": [
       "1    62745\n",
       "0    58753\n",
       "Name: likes_class, dtype: int64"
      ]
     },
     "execution_count": 30,
     "metadata": {},
     "output_type": "execute_result"
    }
   ],
   "source": [
    "fb_percentiles_copy['likes_class'].value_counts()"
   ]
  },
  {
   "cell_type": "code",
   "execution_count": 24,
   "metadata": {},
   "outputs": [
    {
     "name": "stderr",
     "output_type": "stream",
     "text": [
      "/Users/harishprabhala/anaconda/lib/python3.6/site-packages/sklearn/cross_validation.py:44: DeprecationWarning: This module was deprecated in version 0.18 in favor of the model_selection module into which all the refactored classes and functions are moved. Also note that the interface of the new CV iterators are different from that of this module. This module will be removed in 0.20.\n",
      "  \"This module will be removed in 0.20.\", DeprecationWarning)\n"
     ]
    }
   ],
   "source": [
    "from sklearn.cross_validation import train_test_split\n",
    "from sklearn import metrics\n",
    "from sklearn.naive_bayes import MultinomialNB\n",
    "from sklearn import linear_model\n",
    "from sklearn.metrics import recall_score\n",
    "from sklearn.metrics import accuracy_score\n",
    "from sklearn.model_selection import KFold\n",
    "from sklearn.metrics import classification_report"
   ]
  },
  {
   "cell_type": "code",
   "execution_count": 25,
   "metadata": {
    "collapsed": true
   },
   "outputs": [],
   "source": [
    "from sklearn.feature_selection import SelectKBest\n",
    "from sklearn.feature_selection import chi2"
   ]
  },
  {
   "cell_type": "code",
   "execution_count": 26,
   "metadata": {},
   "outputs": [
    {
     "name": "stdout",
     "output_type": "stream",
     "text": [
      "[nltk_data] Downloading package punkt to\n",
      "[nltk_data]     /Users/harishprabhala/nltk_data...\n",
      "[nltk_data]   Package punkt is already up-to-date!\n"
     ]
    }
   ],
   "source": [
    "nltk.download('punkt')\n",
    "from nltk.tokenize import sent_tokenize, word_tokenize\n",
    "from nltk.stem import WordNetLemmatizer\n",
    "from nltk.corpus import stopwords\n",
    "from nltk.tokenize import RegexpTokenizer\n",
    "import re\n",
    "import gensim.parsing.preprocessing as process"
   ]
  },
  {
   "cell_type": "code",
   "execution_count": 27,
   "metadata": {
    "collapsed": true
   },
   "outputs": [],
   "source": [
    "lemmatizer = WordNetLemmatizer()"
   ]
  },
  {
   "cell_type": "code",
   "execution_count": 28,
   "metadata": {
    "collapsed": true
   },
   "outputs": [],
   "source": [
    "def preprocess (line):\n",
    "    line = re.sub(r\"http\\S+\", \"\", line)\n",
    "    line = line.lower()\n",
    "    line = process.remove_stopwords(line)\n",
    "    line = process.strip_numeric(line)\n",
    "    line = process.strip_punctuation(line)\n",
    "    line = process.strip_short(line)\n",
    "    line = process.strip_multiple_whitespaces(line)\n",
    "    tokens = sent_tokenize(line)\n",
    "    stemmed = [w for w in tokens if lemmatizer.lemmatize(w)] \n",
    "    return ' '.join(stemmed)"
   ]
  },
  {
   "cell_type": "code",
   "execution_count": 29,
   "metadata": {
    "collapsed": true
   },
   "outputs": [],
   "source": [
    "text = []\n",
    "for w in fb_percentiles_copy['full_text']:\n",
    "    text.append(preprocess(w))"
   ]
  },
  {
   "cell_type": "code",
   "execution_count": 31,
   "metadata": {
    "collapsed": true
   },
   "outputs": [],
   "source": [
    "X,y = text, fb_percentiles_copy['likes_class']"
   ]
  },
  {
   "cell_type": "code",
   "execution_count": 32,
   "metadata": {
    "collapsed": true
   },
   "outputs": [],
   "source": [
    "from sklearn.feature_extraction.text import CountVectorizer"
   ]
  },
  {
   "cell_type": "code",
   "execution_count": 86,
   "metadata": {
    "collapsed": true
   },
   "outputs": [],
   "source": [
    "vectorizer = CountVectorizer()\n",
    "X_1 = vectorizer.fit_transform(X)"
   ]
  },
  {
   "cell_type": "code",
   "execution_count": 89,
   "metadata": {
    "collapsed": true
   },
   "outputs": [],
   "source": [
    "X_new = SelectKBest(chi2, k=10000).fit_transform(X_1, y)"
   ]
  },
  {
   "cell_type": "code",
   "execution_count": 104,
   "metadata": {},
   "outputs": [
    {
     "data": {
      "text/plain": [
       "((121498, 10000), (121498,))"
      ]
     },
     "execution_count": 104,
     "metadata": {},
     "output_type": "execute_result"
    }
   ],
   "source": [
    "X_new.shape, y.shape"
   ]
  },
  {
   "cell_type": "code",
   "execution_count": 91,
   "metadata": {
    "collapsed": true
   },
   "outputs": [],
   "source": [
    "X_train, X_test, Y_train, Y_test = train_test_split(X_new, y, test_size=0.33)"
   ]
  },
  {
   "cell_type": "code",
   "execution_count": 92,
   "metadata": {},
   "outputs": [
    {
     "data": {
      "text/plain": [
       "((81403, 10000), (40095, 10000), (81403,), (40095,))"
      ]
     },
     "execution_count": 92,
     "metadata": {},
     "output_type": "execute_result"
    }
   ],
   "source": [
    "X_train.shape, X_test.shape, Y_train.shape, Y_test.shape"
   ]
  },
  {
   "cell_type": "code",
   "execution_count": 38,
   "metadata": {
    "collapsed": true
   },
   "outputs": [],
   "source": [
    "from sklearn.linear_model import LogisticRegression"
   ]
  },
  {
   "cell_type": "code",
   "execution_count": 107,
   "metadata": {},
   "outputs": [
    {
     "name": "stdout",
     "output_type": "stream",
     "text": [
      "Accuracy of test data:  0.623095149021\n",
      "Accuracy of training data:  0.689864009926\n",
      "\n",
      "\n",
      "Classification report summary of Multinomial Logistic Regression\n",
      "             precision    recall  f1-score   support\n",
      "\n",
      "          0       0.56      0.62      0.59     17372\n",
      "          1       0.68      0.62      0.65     22723\n",
      "\n",
      "avg / total       0.63      0.62      0.62     40095\n",
      "\n"
     ]
    }
   ],
   "source": [
    "logit=LogisticRegression(C=10)\n",
    "logit.fit(X_train,Y_train)\n",
    "print ('Accuracy of test data: ',(accuracy_score(logit.predict(X_test), Y_test)))\n",
    "print ('Accuracy of training data: ',(accuracy_score(logit.predict(X_train), Y_train)))\n",
    "print(\"\\n\")\n",
    "print ('Classification report summary of Multinomial Logistic Regression')\n",
    "print(classification_report(logit.predict(X_test), Y_test))"
   ]
  },
  {
   "cell_type": "code",
   "execution_count": 110,
   "metadata": {
    "collapsed": true
   },
   "outputs": [],
   "source": [
    "from sklearn.metrics import roc_curve, auc, roc_auc_score"
   ]
  },
  {
   "cell_type": "code",
   "execution_count": 114,
   "metadata": {},
   "outputs": [],
   "source": [
    "y_true_auc = np.array(Y_test).astype(int)\n",
    "y_pred_auc = np.array(logit.predict(X_test)).astype(int)"
   ]
  },
  {
   "cell_type": "code",
   "execution_count": 115,
   "metadata": {},
   "outputs": [
    {
     "data": {
      "text/plain": [
       "0.62099578124715404"
      ]
     },
     "execution_count": 115,
     "metadata": {},
     "output_type": "execute_result"
    }
   ],
   "source": [
    "Logistic_auc = roc_auc_score(y_true_auc, y_pred_auc)\n",
    "Logistic_auc"
   ]
  },
  {
   "cell_type": "code",
   "execution_count": null,
   "metadata": {
    "collapsed": true
   },
   "outputs": [],
   "source": []
  }
 ],
 "metadata": {
  "kernelspec": {
   "display_name": "Python 3",
   "language": "python",
   "name": "python3"
  },
  "language_info": {
   "codemirror_mode": {
    "name": "ipython",
    "version": 3
   },
   "file_extension": ".py",
   "mimetype": "text/x-python",
   "name": "python",
   "nbconvert_exporter": "python",
   "pygments_lexer": "ipython3",
   "version": "3.6.0"
  }
 },
 "nbformat": 4,
 "nbformat_minor": 2
}

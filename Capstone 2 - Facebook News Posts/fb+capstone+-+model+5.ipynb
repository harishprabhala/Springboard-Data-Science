{
 "cells": [
  {
   "cell_type": "code",
   "execution_count": 33,
   "metadata": {
    "collapsed": true
   },
   "outputs": [],
   "source": [
    "%matplotlib inline\n",
    "import numpy as np\n",
    "import pandas as pd\n",
    "import nltk\n",
    "import string\n",
    "import matplotlib.pyplot as plt\n",
    "import seaborn as sns"
   ]
  },
  {
   "cell_type": "code",
   "execution_count": 3,
   "metadata": {
    "collapsed": true
   },
   "outputs": [],
   "source": [
    "fb_percentiles = pd.read_excel('/Users/harishprabhala/Documents/fb_posts_top_bottom.xlsx')"
   ]
  },
  {
   "cell_type": "code",
   "execution_count": 3,
   "metadata": {},
   "outputs": [
    {
     "data": {
      "text/html": [
       "<div>\n",
       "<table border=\"1\" class=\"dataframe\">\n",
       "  <thead>\n",
       "    <tr style=\"text-align: right;\">\n",
       "      <th></th>\n",
       "      <th>name</th>\n",
       "      <th>message</th>\n",
       "      <th>description</th>\n",
       "      <th>status_type</th>\n",
       "      <th>likes_count</th>\n",
       "      <th>comments_count</th>\n",
       "      <th>shares_count</th>\n",
       "      <th>year</th>\n",
       "      <th>likes_percentile</th>\n",
       "      <th>shares_percentile</th>\n",
       "    </tr>\n",
       "  </thead>\n",
       "  <tbody>\n",
       "    <tr>\n",
       "      <th>0</th>\n",
       "      <td>NaN</td>\n",
       "      <td>Obama: 'The world needs a strong America and i...</td>\n",
       "      <td>NaN</td>\n",
       "      <td>mobile_status_update</td>\n",
       "      <td>22315</td>\n",
       "      <td>9497</td>\n",
       "      <td>352</td>\n",
       "      <td>2012-10-23 01:34:03</td>\n",
       "      <td>0.999</td>\n",
       "      <td>0.895</td>\n",
       "    </tr>\n",
       "    <tr>\n",
       "      <th>1</th>\n",
       "      <td>Timeline Photos</td>\n",
       "      <td>BREAKING NEWS: ABC News projects Barack Obama ...</td>\n",
       "      <td>NaN</td>\n",
       "      <td>added_photos</td>\n",
       "      <td>14786</td>\n",
       "      <td>1251</td>\n",
       "      <td>3188</td>\n",
       "      <td>2012-11-07 04:30:06</td>\n",
       "      <td>0.999</td>\n",
       "      <td>0.994</td>\n",
       "    </tr>\n",
       "    <tr>\n",
       "      <th>2</th>\n",
       "      <td>Timeline Photos</td>\n",
       "      <td>Inventors of a cup that changes color when in ...</td>\n",
       "      <td>NaN</td>\n",
       "      <td>added_photos</td>\n",
       "      <td>15210</td>\n",
       "      <td>701</td>\n",
       "      <td>5384</td>\n",
       "      <td>2012-12-11 16:20:02</td>\n",
       "      <td>0.999</td>\n",
       "      <td>0.998</td>\n",
       "    </tr>\n",
       "    <tr>\n",
       "      <th>3</th>\n",
       "      <td>Timeline Photos</td>\n",
       "      <td>'Our hearts are broken today' - President Bara...</td>\n",
       "      <td>NaN</td>\n",
       "      <td>added_photos</td>\n",
       "      <td>20803</td>\n",
       "      <td>1673</td>\n",
       "      <td>8596</td>\n",
       "      <td>2012-12-14 20:21:19</td>\n",
       "      <td>0.999</td>\n",
       "      <td>0.999</td>\n",
       "    </tr>\n",
       "    <tr>\n",
       "      <th>4</th>\n",
       "      <td>Timeline Photos</td>\n",
       "      <td>The parents of Jessica Rekos, a 6-year-old gir...</td>\n",
       "      <td>NaN</td>\n",
       "      <td>added_photos</td>\n",
       "      <td>17402</td>\n",
       "      <td>914</td>\n",
       "      <td>1646</td>\n",
       "      <td>2012-12-17 16:52:33</td>\n",
       "      <td>0.999</td>\n",
       "      <td>0.987</td>\n",
       "    </tr>\n",
       "  </tbody>\n",
       "</table>\n",
       "</div>"
      ],
      "text/plain": [
       "              name                                            message  \\\n",
       "0              NaN  Obama: 'The world needs a strong America and i...   \n",
       "1  Timeline Photos  BREAKING NEWS: ABC News projects Barack Obama ...   \n",
       "2  Timeline Photos  Inventors of a cup that changes color when in ...   \n",
       "3  Timeline Photos  'Our hearts are broken today' - President Bara...   \n",
       "4  Timeline Photos  The parents of Jessica Rekos, a 6-year-old gir...   \n",
       "\n",
       "  description           status_type  likes_count  comments_count  \\\n",
       "0         NaN  mobile_status_update        22315            9497   \n",
       "1         NaN          added_photos        14786            1251   \n",
       "2         NaN          added_photos        15210             701   \n",
       "3         NaN          added_photos        20803            1673   \n",
       "4         NaN          added_photos        17402             914   \n",
       "\n",
       "   shares_count                year  likes_percentile  shares_percentile  \n",
       "0           352 2012-10-23 01:34:03             0.999              0.895  \n",
       "1          3188 2012-11-07 04:30:06             0.999              0.994  \n",
       "2          5384 2012-12-11 16:20:02             0.999              0.998  \n",
       "3          8596 2012-12-14 20:21:19             0.999              0.999  \n",
       "4          1646 2012-12-17 16:52:33             0.999              0.987  "
      ]
     },
     "execution_count": 3,
     "metadata": {},
     "output_type": "execute_result"
    }
   ],
   "source": [
    "fb_percentiles.head()"
   ]
  },
  {
   "cell_type": "code",
   "execution_count": 4,
   "metadata": {
    "collapsed": true
   },
   "outputs": [],
   "source": [
    "fb_percentiles['full_text'] = fb_percentiles['name'].map(str) + ' ' + fb_percentiles['message'].map(str) + ' ' + fb_percentiles['description'].map(str)"
   ]
  },
  {
   "cell_type": "code",
   "execution_count": 5,
   "metadata": {
    "collapsed": true
   },
   "outputs": [],
   "source": [
    "fb_percentiles_copy = fb_percentiles[['full_text','likes_count','shares_count','likes_percentile','shares_percentile']]"
   ]
  },
  {
   "cell_type": "code",
   "execution_count": 6,
   "metadata": {},
   "outputs": [
    {
     "data": {
      "text/html": [
       "<div>\n",
       "<table border=\"1\" class=\"dataframe\">\n",
       "  <thead>\n",
       "    <tr style=\"text-align: right;\">\n",
       "      <th></th>\n",
       "      <th>full_text</th>\n",
       "      <th>likes_count</th>\n",
       "      <th>shares_count</th>\n",
       "      <th>likes_percentile</th>\n",
       "      <th>shares_percentile</th>\n",
       "    </tr>\n",
       "  </thead>\n",
       "  <tbody>\n",
       "    <tr>\n",
       "      <th>0</th>\n",
       "      <td>nan Obama: 'The world needs a strong America a...</td>\n",
       "      <td>22315</td>\n",
       "      <td>352</td>\n",
       "      <td>0.999</td>\n",
       "      <td>0.895</td>\n",
       "    </tr>\n",
       "    <tr>\n",
       "      <th>1</th>\n",
       "      <td>Timeline Photos BREAKING NEWS: ABC News projec...</td>\n",
       "      <td>14786</td>\n",
       "      <td>3188</td>\n",
       "      <td>0.999</td>\n",
       "      <td>0.994</td>\n",
       "    </tr>\n",
       "    <tr>\n",
       "      <th>2</th>\n",
       "      <td>Timeline Photos Inventors of a cup that change...</td>\n",
       "      <td>15210</td>\n",
       "      <td>5384</td>\n",
       "      <td>0.999</td>\n",
       "      <td>0.998</td>\n",
       "    </tr>\n",
       "    <tr>\n",
       "      <th>3</th>\n",
       "      <td>Timeline Photos 'Our hearts are broken today' ...</td>\n",
       "      <td>20803</td>\n",
       "      <td>8596</td>\n",
       "      <td>0.999</td>\n",
       "      <td>0.999</td>\n",
       "    </tr>\n",
       "    <tr>\n",
       "      <th>4</th>\n",
       "      <td>Timeline Photos The parents of Jessica Rekos, ...</td>\n",
       "      <td>17402</td>\n",
       "      <td>1646</td>\n",
       "      <td>0.999</td>\n",
       "      <td>0.987</td>\n",
       "    </tr>\n",
       "  </tbody>\n",
       "</table>\n",
       "</div>"
      ],
      "text/plain": [
       "                                           full_text  likes_count  \\\n",
       "0  nan Obama: 'The world needs a strong America a...        22315   \n",
       "1  Timeline Photos BREAKING NEWS: ABC News projec...        14786   \n",
       "2  Timeline Photos Inventors of a cup that change...        15210   \n",
       "3  Timeline Photos 'Our hearts are broken today' ...        20803   \n",
       "4  Timeline Photos The parents of Jessica Rekos, ...        17402   \n",
       "\n",
       "   shares_count  likes_percentile  shares_percentile  \n",
       "0           352             0.999              0.895  \n",
       "1          3188             0.999              0.994  \n",
       "2          5384             0.999              0.998  \n",
       "3          8596             0.999              0.999  \n",
       "4          1646             0.999              0.987  "
      ]
     },
     "execution_count": 6,
     "metadata": {},
     "output_type": "execute_result"
    }
   ],
   "source": [
    "fb_percentiles_copy.head()"
   ]
  },
  {
   "cell_type": "code",
   "execution_count": 7,
   "metadata": {},
   "outputs": [
    {
     "name": "stderr",
     "output_type": "stream",
     "text": [
      "/Users/harishprabhala/anaconda/lib/python3.6/site-packages/ipykernel/__main__.py:1: SettingWithCopyWarning: \n",
      "A value is trying to be set on a copy of a slice from a DataFrame.\n",
      "Try using .loc[row_indexer,col_indexer] = value instead\n",
      "\n",
      "See the caveats in the documentation: http://pandas.pydata.org/pandas-docs/stable/indexing.html#indexing-view-versus-copy\n",
      "  if __name__ == '__main__':\n"
     ]
    }
   ],
   "source": [
    "fb_percentiles_copy['likes_class'] = fb_percentiles_copy['likes_percentile'].apply(lambda x: '1' if x > 0.75 else '0') "
   ]
  },
  {
   "cell_type": "code",
   "execution_count": 8,
   "metadata": {},
   "outputs": [
    {
     "data": {
      "text/html": [
       "<div>\n",
       "<table border=\"1\" class=\"dataframe\">\n",
       "  <thead>\n",
       "    <tr style=\"text-align: right;\">\n",
       "      <th></th>\n",
       "      <th>full_text</th>\n",
       "      <th>likes_count</th>\n",
       "      <th>shares_count</th>\n",
       "      <th>likes_percentile</th>\n",
       "      <th>shares_percentile</th>\n",
       "      <th>likes_class</th>\n",
       "    </tr>\n",
       "  </thead>\n",
       "  <tbody>\n",
       "    <tr>\n",
       "      <th>248214</th>\n",
       "      <td>Simon Nixon nan Simon Nixon is Chief European ...</td>\n",
       "      <td>0</td>\n",
       "      <td>0</td>\n",
       "      <td>0.0</td>\n",
       "      <td>0.000</td>\n",
       "      <td>0</td>\n",
       "    </tr>\n",
       "    <tr>\n",
       "      <th>248215</th>\n",
       "      <td>Ukrainian Billionaire, Wanted by U.S., Builds ...</td>\n",
       "      <td>24</td>\n",
       "      <td>11</td>\n",
       "      <td>0.0</td>\n",
       "      <td>0.009</td>\n",
       "      <td>0</td>\n",
       "    </tr>\n",
       "    <tr>\n",
       "      <th>248216</th>\n",
       "      <td>Former Korean Air Executive Found Guilty Over ...</td>\n",
       "      <td>6</td>\n",
       "      <td>4</td>\n",
       "      <td>0.0</td>\n",
       "      <td>0.013</td>\n",
       "      <td>0</td>\n",
       "    </tr>\n",
       "    <tr>\n",
       "      <th>248217</th>\n",
       "      <td>Yaroslav Trofimov nan Author of 'Middle East C...</td>\n",
       "      <td>0</td>\n",
       "      <td>0</td>\n",
       "      <td>0.0</td>\n",
       "      <td>0.000</td>\n",
       "      <td>0</td>\n",
       "    </tr>\n",
       "    <tr>\n",
       "      <th>248218</th>\n",
       "      <td>Barron's Asia nan Barron's Asia is a premier i...</td>\n",
       "      <td>0</td>\n",
       "      <td>0</td>\n",
       "      <td>0.0</td>\n",
       "      <td>0.000</td>\n",
       "      <td>0</td>\n",
       "    </tr>\n",
       "  </tbody>\n",
       "</table>\n",
       "</div>"
      ],
      "text/plain": [
       "                                                full_text  likes_count  \\\n",
       "248214  Simon Nixon nan Simon Nixon is Chief European ...            0   \n",
       "248215  Ukrainian Billionaire, Wanted by U.S., Builds ...           24   \n",
       "248216  Former Korean Air Executive Found Guilty Over ...            6   \n",
       "248217  Yaroslav Trofimov nan Author of 'Middle East C...            0   \n",
       "248218  Barron's Asia nan Barron's Asia is a premier i...            0   \n",
       "\n",
       "        shares_count  likes_percentile  shares_percentile likes_class  \n",
       "248214             0               0.0              0.000           0  \n",
       "248215            11               0.0              0.009           0  \n",
       "248216             4               0.0              0.013           0  \n",
       "248217             0               0.0              0.000           0  \n",
       "248218             0               0.0              0.000           0  "
      ]
     },
     "execution_count": 8,
     "metadata": {},
     "output_type": "execute_result"
    }
   ],
   "source": [
    "fb_percentiles_copy.tail()"
   ]
  },
  {
   "cell_type": "code",
   "execution_count": 9,
   "metadata": {},
   "outputs": [
    {
     "data": {
      "text/plain": [
       "0    127681\n",
       "1    120538\n",
       "Name: likes_class, dtype: int64"
      ]
     },
     "execution_count": 9,
     "metadata": {},
     "output_type": "execute_result"
    }
   ],
   "source": [
    "fb_percentiles_copy['likes_class'].value_counts()"
   ]
  },
  {
   "cell_type": "code",
   "execution_count": 10,
   "metadata": {},
   "outputs": [
    {
     "name": "stderr",
     "output_type": "stream",
     "text": [
      "/Users/harishprabhala/anaconda/lib/python3.6/site-packages/sklearn/cross_validation.py:44: DeprecationWarning: This module was deprecated in version 0.18 in favor of the model_selection module into which all the refactored classes and functions are moved. Also note that the interface of the new CV iterators are different from that of this module. This module will be removed in 0.20.\n",
      "  \"This module will be removed in 0.20.\", DeprecationWarning)\n"
     ]
    }
   ],
   "source": [
    "from sklearn.cross_validation import train_test_split\n",
    "from sklearn import metrics\n",
    "from sklearn.naive_bayes import MultinomialNB\n",
    "from sklearn import linear_model\n",
    "from sklearn.metrics import recall_score\n",
    "from sklearn.metrics import accuracy_score\n",
    "from sklearn.model_selection import KFold\n",
    "from sklearn.metrics import classification_report"
   ]
  },
  {
   "cell_type": "code",
   "execution_count": 11,
   "metadata": {},
   "outputs": [
    {
     "name": "stdout",
     "output_type": "stream",
     "text": [
      "[nltk_data] Downloading package punkt to\n",
      "[nltk_data]     /Users/harishprabhala/nltk_data...\n",
      "[nltk_data]   Package punkt is already up-to-date!\n"
     ]
    }
   ],
   "source": [
    "nltk.download('punkt')\n",
    "from nltk.tokenize import sent_tokenize, word_tokenize\n",
    "from nltk.stem import WordNetLemmatizer\n",
    "from nltk.corpus import stopwords\n",
    "from nltk.tokenize import RegexpTokenizer\n",
    "import re\n",
    "import gensim.parsing.preprocessing as process"
   ]
  },
  {
   "cell_type": "code",
   "execution_count": 12,
   "metadata": {
    "collapsed": true
   },
   "outputs": [],
   "source": [
    "from sklearn.feature_selection import SelectKBest\n",
    "from sklearn.feature_selection import chi2"
   ]
  },
  {
   "cell_type": "code",
   "execution_count": 13,
   "metadata": {
    "collapsed": true
   },
   "outputs": [],
   "source": [
    "lemmatizer = WordNetLemmatizer()"
   ]
  },
  {
   "cell_type": "code",
   "execution_count": 14,
   "metadata": {
    "collapsed": true
   },
   "outputs": [],
   "source": [
    "def preprocess (line):\n",
    "    line = re.sub(r\"http\\S+\", \"\", line)\n",
    "    line = re.sub(r\"Photos\", \"\", line)\n",
    "    line = re.sub(r\"Timeline\", \"\", line)\n",
    "    line = re.sub(r\"nan\", \"\", line)\n",
    "    line = re.sub(r\"photo\", \"\", line)\n",
    "    line = line.lower()\n",
    "    line = process.remove_stopwords(line)\n",
    "    line = process.strip_numeric(line)\n",
    "    line = process.strip_punctuation(line)\n",
    "    line = process.strip_short(line)\n",
    "    line = process.strip_multiple_whitespaces(line)\n",
    "    tokens = sent_tokenize(line)\n",
    "    stemmed = [w for w in tokens if lemmatizer.lemmatize(w)] \n",
    "    return ' '.join(stemmed)"
   ]
  },
  {
   "cell_type": "code",
   "execution_count": 15,
   "metadata": {
    "collapsed": true
   },
   "outputs": [],
   "source": [
    "text = []\n",
    "for w in fb_percentiles_copy['full_text']:\n",
    "    text.append(preprocess(w))"
   ]
  },
  {
   "cell_type": "code",
   "execution_count": 16,
   "metadata": {
    "collapsed": true
   },
   "outputs": [],
   "source": [
    "X,y = text, fb_percentiles_copy['likes_class']"
   ]
  },
  {
   "cell_type": "code",
   "execution_count": 17,
   "metadata": {
    "collapsed": true
   },
   "outputs": [],
   "source": [
    "from sklearn.feature_extraction.text import CountVectorizer"
   ]
  },
  {
   "cell_type": "code",
   "execution_count": 18,
   "metadata": {
    "collapsed": true
   },
   "outputs": [],
   "source": [
    "vectorizer = CountVectorizer()\n",
    "X_1 = vectorizer.fit_transform(X)"
   ]
  },
  {
   "cell_type": "code",
   "execution_count": 19,
   "metadata": {
    "collapsed": true
   },
   "outputs": [],
   "source": [
    "from sklearn.feature_selection import chi2"
   ]
  },
  {
   "cell_type": "code",
   "execution_count": 20,
   "metadata": {
    "collapsed": true
   },
   "outputs": [],
   "source": [
    "chi2score = chi2(X_1, y)[0]"
   ]
  },
  {
   "cell_type": "code",
   "execution_count": 21,
   "metadata": {
    "collapsed": true
   },
   "outputs": [],
   "source": [
    "X_new = SelectKBest(chi2, k=28000).fit_transform(X_1, y)"
   ]
  },
  {
   "cell_type": "code",
   "execution_count": 22,
   "metadata": {},
   "outputs": [
    {
     "data": {
      "text/plain": [
       "((248219, 28000), (248219,))"
      ]
     },
     "execution_count": 22,
     "metadata": {},
     "output_type": "execute_result"
    }
   ],
   "source": [
    "X_new.shape, y.shape"
   ]
  },
  {
   "cell_type": "code",
   "execution_count": 23,
   "metadata": {
    "collapsed": true
   },
   "outputs": [],
   "source": [
    "X_train, X_test, Y_train, Y_test = train_test_split(X_new, y, test_size=0.33, random_state=0)"
   ]
  },
  {
   "cell_type": "code",
   "execution_count": 24,
   "metadata": {},
   "outputs": [
    {
     "data": {
      "text/plain": [
       "((166306, 28000), (81913, 28000), (166306,), (81913,))"
      ]
     },
     "execution_count": 24,
     "metadata": {},
     "output_type": "execute_result"
    }
   ],
   "source": [
    "X_train.shape, X_test.shape, Y_train.shape, Y_test.shape"
   ]
  },
  {
   "cell_type": "code",
   "execution_count": 25,
   "metadata": {
    "collapsed": true
   },
   "outputs": [],
   "source": [
    "from sklearn.linear_model import LogisticRegression"
   ]
  },
  {
   "cell_type": "code",
   "execution_count": 26,
   "metadata": {},
   "outputs": [
    {
     "name": "stdout",
     "output_type": "stream",
     "text": [
      "Accuracy of test data:  0.733729688816\n",
      "Accuracy of training data:  0.793994203456\n",
      "\n",
      "\n",
      "Classification report summary of Logistic Regression\n",
      "             precision    recall  f1-score   support\n",
      "\n",
      "          0       0.75      0.74      0.74     42515\n",
      "          1       0.72      0.73      0.72     39398\n",
      "\n",
      "avg / total       0.73      0.73      0.73     81913\n",
      "\n"
     ]
    }
   ],
   "source": [
    "logit=LogisticRegression(C=1)\n",
    "logit.fit(X_train,Y_train)\n",
    "print ('Accuracy of test data: ',(accuracy_score(logit.predict(X_test), Y_test)))\n",
    "print ('Accuracy of training data: ',(accuracy_score(logit.predict(X_train), Y_train)))\n",
    "print(\"\\n\")\n",
    "print ('Classification report summary of Logistic Regression')\n",
    "print(classification_report(logit.predict(X_test), Y_test))"
   ]
  },
  {
   "cell_type": "code",
   "execution_count": 27,
   "metadata": {
    "collapsed": true
   },
   "outputs": [],
   "source": [
    "from sklearn.metrics import roc_curve, auc, roc_auc_score"
   ]
  },
  {
   "cell_type": "code",
   "execution_count": 28,
   "metadata": {
    "collapsed": true
   },
   "outputs": [],
   "source": [
    "y_true_auc = np.array(Y_test).astype(int)\n",
    "y_pred_auc = np.array(logit.predict(X_test)).astype(int)"
   ]
  },
  {
   "cell_type": "code",
   "execution_count": 29,
   "metadata": {},
   "outputs": [
    {
     "data": {
      "text/plain": [
       "0.73337923906067826"
      ]
     },
     "execution_count": 29,
     "metadata": {},
     "output_type": "execute_result"
    }
   ],
   "source": [
    "Logistic_auc = roc_auc_score(y_true_auc, y_pred_auc)\n",
    "Logistic_auc"
   ]
  },
  {
   "cell_type": "code",
   "execution_count": 30,
   "metadata": {
    "collapsed": true
   },
   "outputs": [],
   "source": [
    "probas2_ = logit.predict_proba(X_test)[:,1]"
   ]
  },
  {
   "cell_type": "code",
   "execution_count": 31,
   "metadata": {
    "collapsed": true
   },
   "outputs": [],
   "source": [
    "fpr2,tpr2,_ = roc_curve(y_true_auc, probas2_)"
   ]
  },
  {
   "cell_type": "code",
   "execution_count": 34,
   "metadata": {},
   "outputs": [
    {
     "data": {
      "image/png": "[encoded data removed]",
      "text/plain": [
       "<matplotlib.figure.Figure at 0x1306d0f60>"
      ]
     },
     "metadata": {},
     "output_type": "display_data"
    }
   ],
   "source": [
    "plt.plot(fpr2,tpr2, label=('Logistic %.2f' %Logistic_auc))\n",
    "plt.plot([0,1],[0,1],'r--')\n",
    "plt.xlim(0,1)\n",
    "plt.ylim(0,1)\n",
    "plt.ylabel('True Postive Rate')\n",
    "plt.xlabel('False Positive Rate')\n",
    "plt.show()"
   ]
  },
  {
   "cell_type": "code",
   "execution_count": 30,
   "metadata": {
    "collapsed": true
   },
   "outputs": [],
   "source": [
    "wscores = (dict(zip(vectorizer.get_feature_names(),chi2score)))"
   ]
  },
  {
   "cell_type": "code",
   "execution_count": 31,
   "metadata": {
    "collapsed": true
   },
   "outputs": [],
   "source": [
    "a = pd.DataFrame.from_dict(wscores, orient='index')"
   ]
  },
  {
   "cell_type": "code",
   "execution_count": 32,
   "metadata": {
    "collapsed": true
   },
   "outputs": [],
   "source": [
    "a.columns = ['Score']"
   ]
  },
  {
   "cell_type": "code",
   "execution_count": 33,
   "metadata": {},
   "outputs": [
    {
     "data": {
      "text/html": [
       "<div>\n",
       "<table border=\"1\" class=\"dataframe\">\n",
       "  <thead>\n",
       "    <tr style=\"text-align: right;\">\n",
       "      <th></th>\n",
       "      <th>Score</th>\n",
       "    </tr>\n",
       "  </thead>\n",
       "  <tbody>\n",
       "    <tr>\n",
       "      <th>obama</th>\n",
       "      <td>3443.466430</td>\n",
       "    </tr>\n",
       "    <tr>\n",
       "      <th>old</th>\n",
       "      <td>1913.622613</td>\n",
       "    </tr>\n",
       "    <tr>\n",
       "      <th>trump</th>\n",
       "      <td>1648.650409</td>\n",
       "    </tr>\n",
       "    <tr>\n",
       "      <th>president</th>\n",
       "      <td>1417.906763</td>\n",
       "    </tr>\n",
       "    <tr>\n",
       "      <th>clinton</th>\n",
       "      <td>1415.308541</td>\n",
       "    </tr>\n",
       "    <tr>\n",
       "      <th>dog</th>\n",
       "      <td>1192.379996</td>\n",
       "    </tr>\n",
       "    <tr>\n",
       "      <th>baby</th>\n",
       "      <td>1142.720744</td>\n",
       "    </tr>\n",
       "    <tr>\n",
       "      <th>photo</th>\n",
       "      <td>1002.419308</td>\n",
       "    </tr>\n",
       "    <tr>\n",
       "      <th>questions</th>\n",
       "      <td>988.125842</td>\n",
       "    </tr>\n",
       "    <tr>\n",
       "      <th>hillary</th>\n",
       "      <td>968.872161</td>\n",
       "    </tr>\n",
       "    <tr>\n",
       "      <th>boy</th>\n",
       "      <td>937.545482</td>\n",
       "    </tr>\n",
       "    <tr>\n",
       "      <th>girl</th>\n",
       "      <td>923.263349</td>\n",
       "    </tr>\n",
       "    <tr>\n",
       "      <th>birthday</th>\n",
       "      <td>914.635132</td>\n",
       "    </tr>\n",
       "    <tr>\n",
       "      <th>barack</th>\n",
       "      <td>882.255956</td>\n",
       "    </tr>\n",
       "    <tr>\n",
       "      <th>years</th>\n",
       "      <td>856.588242</td>\n",
       "    </tr>\n",
       "    <tr>\n",
       "      <th>donald</th>\n",
       "      <td>856.324939</td>\n",
       "    </tr>\n",
       "    <tr>\n",
       "      <th>sanders</th>\n",
       "      <td>704.989721</td>\n",
       "    </tr>\n",
       "    <tr>\n",
       "      <th>michelle</th>\n",
       "      <td>681.267413</td>\n",
       "    </tr>\n",
       "    <tr>\n",
       "      <th>bernie</th>\n",
       "      <td>669.334272</td>\n",
       "    </tr>\n",
       "    <tr>\n",
       "      <th>mom</th>\n",
       "      <td>667.843827</td>\n",
       "    </tr>\n",
       "  </tbody>\n",
       "</table>\n",
       "</div>"
      ],
      "text/plain": [
       "                 Score\n",
       "obama      3443.466430\n",
       "old        1913.622613\n",
       "trump      1648.650409\n",
       "president  1417.906763\n",
       "clinton    1415.308541\n",
       "dog        1192.379996\n",
       "baby       1142.720744\n",
       "photo      1002.419308\n",
       "questions   988.125842\n",
       "hillary     968.872161\n",
       "boy         937.545482\n",
       "girl        923.263349\n",
       "birthday    914.635132\n",
       "barack      882.255956\n",
       "years       856.588242\n",
       "donald      856.324939\n",
       "sanders     704.989721\n",
       "michelle    681.267413\n",
       "bernie      669.334272\n",
       "mom         667.843827"
      ]
     },
     "execution_count": 33,
     "metadata": {},
     "output_type": "execute_result"
    }
   ],
   "source": [
    "a.sort_values('Score', ascending=False).head(20)"
   ]
  },
  {
   "cell_type": "code",
   "execution_count": 39,
   "metadata": {
    "collapsed": true
   },
   "outputs": [],
   "source": [
    "feat_name = vectorizer.get_feature_names()"
   ]
  },
  {
   "cell_type": "code",
   "execution_count": 63,
   "metadata": {
    "collapsed": true
   },
   "outputs": [],
   "source": [
    "top_feat = np.array(feat_name[:28000])"
   ]
  },
  {
   "cell_type": "code",
   "execution_count": 64,
   "metadata": {},
   "outputs": [
    {
     "data": {
      "text/plain": [
       "(28000,)"
      ]
     },
     "execution_count": 64,
     "metadata": {},
     "output_type": "execute_result"
    }
   ],
   "source": [
    "top_feat.shape"
   ]
  },
  {
   "cell_type": "code",
   "execution_count": 71,
   "metadata": {
    "collapsed": true
   },
   "outputs": [],
   "source": [
    "coeff = np.array(logit.coef_)[0]"
   ]
  },
  {
   "cell_type": "code",
   "execution_count": 72,
   "metadata": {},
   "outputs": [
    {
     "data": {
      "text/plain": [
       "(28000,)"
      ]
     },
     "execution_count": 72,
     "metadata": {},
     "output_type": "execute_result"
    }
   ],
   "source": [
    "coeff.shape"
   ]
  },
  {
   "cell_type": "code",
   "execution_count": 74,
   "metadata": {
    "collapsed": true
   },
   "outputs": [],
   "source": [
    "coff = (dict(zip(top_feat,coeff)))"
   ]
  },
  {
   "cell_type": "code",
   "execution_count": 75,
   "metadata": {
    "collapsed": true
   },
   "outputs": [],
   "source": [
    "b = pd.DataFrame.from_dict(coff, orient='index')"
   ]
  },
  {
   "cell_type": "code",
   "execution_count": 77,
   "metadata": {
    "collapsed": true
   },
   "outputs": [],
   "source": [
    "b.columns = ['coefficient']"
   ]
  },
  {
   "cell_type": "code",
   "execution_count": 83,
   "metadata": {},
   "outputs": [
    {
     "data": {
      "text/html": [
       "<div>\n",
       "<table border=\"1\" class=\"dataframe\">\n",
       "  <thead>\n",
       "    <tr style=\"text-align: right;\">\n",
       "      <th></th>\n",
       "      <th>coefficient</th>\n",
       "    </tr>\n",
       "  </thead>\n",
       "  <tbody>\n",
       "    <tr>\n",
       "      <th>baddest</th>\n",
       "      <td>2.317496</td>\n",
       "    </tr>\n",
       "    <tr>\n",
       "      <th>bullishness</th>\n",
       "      <td>2.279021</td>\n",
       "    </tr>\n",
       "    <tr>\n",
       "      <th>commonalities</th>\n",
       "      <td>2.247653</td>\n",
       "    </tr>\n",
       "    <tr>\n",
       "      <th>beaver</th>\n",
       "      <td>2.140309</td>\n",
       "    </tr>\n",
       "    <tr>\n",
       "      <th>chugged</th>\n",
       "      <td>2.021058</td>\n",
       "    </tr>\n",
       "    <tr>\n",
       "      <th>cabello</th>\n",
       "      <td>2.002660</td>\n",
       "    </tr>\n",
       "    <tr>\n",
       "      <th>alohahuffpost</th>\n",
       "      <td>1.959803</td>\n",
       "    </tr>\n",
       "    <tr>\n",
       "      <th>disappoints</th>\n",
       "      <td>1.889464</td>\n",
       "    </tr>\n",
       "    <tr>\n",
       "      <th>burqini</th>\n",
       "      <td>1.866203</td>\n",
       "    </tr>\n",
       "    <tr>\n",
       "      <th>admini</th>\n",
       "      <td>1.853098</td>\n",
       "    </tr>\n",
       "  </tbody>\n",
       "</table>\n",
       "</div>"
      ],
      "text/plain": [
       "               coefficient\n",
       "baddest           2.317496\n",
       "bullishness       2.279021\n",
       "commonalities     2.247653\n",
       "beaver            2.140309\n",
       "chugged           2.021058\n",
       "cabello           2.002660\n",
       "alohahuffpost     1.959803\n",
       "disappoints       1.889464\n",
       "burqini           1.866203\n",
       "admini            1.853098"
      ]
     },
     "execution_count": 83,
     "metadata": {},
     "output_type": "execute_result"
    }
   ],
   "source": [
    "b.sort_values('coefficient', ascending=False).head(10)"
   ]
  },
  {
   "cell_type": "code",
   "execution_count": 34,
   "metadata": {},
   "outputs": [
    {
     "name": "stdout",
     "output_type": "stream",
     "text": [
      "Accuracy of test data:  0.73418138757\n",
      "Accuracy of training data:  0.760453621637\n",
      "\n",
      "\n",
      "Classification report summary of MultinomialNB with alpha = 0.01:\n",
      "             precision    recall  f1-score   support\n",
      "\n",
      "          0       0.73      0.75      0.74     40934\n",
      "          1       0.74      0.72      0.73     40979\n",
      "\n",
      "avg / total       0.73      0.73      0.73     81913\n",
      "\n"
     ]
    }
   ],
   "source": [
    "clf2=MultinomialNB(alpha=0.01)\n",
    "clf2.fit(X_train,Y_train)\n",
    "print ('Accuracy of test data: ',(accuracy_score(clf2.predict(X_test), Y_test)))\n",
    "print ('Accuracy of training data: ',(accuracy_score(clf2.predict(X_train), Y_train)))\n",
    "print(\"\\n\")\n",
    "print ('Classification report summary of MultinomialNB with alpha = 0.01:')\n",
    "print(classification_report(clf2.predict(X_test), Y_test))"
   ]
  },
  {
   "cell_type": "code",
   "execution_count": 35,
   "metadata": {
    "collapsed": true
   },
   "outputs": [],
   "source": [
    "y_true_auc1 = np.array(Y_test).astype(int)\n",
    "y_pred_auc1 = np.array(clf2.predict(X_test)).astype(int)"
   ]
  },
  {
   "cell_type": "code",
   "execution_count": 36,
   "metadata": {},
   "outputs": [
    {
     "data": {
      "text/plain": [
       "0.73437437485417867"
      ]
     },
     "execution_count": 36,
     "metadata": {},
     "output_type": "execute_result"
    }
   ],
   "source": [
    "MultiNB = roc_auc_score(y_true_auc1, y_pred_auc1)\n",
    "MultiNB"
   ]
  },
  {
   "cell_type": "code",
   "execution_count": null,
   "metadata": {
    "collapsed": true
   },
   "outputs": [],
   "source": []
  },
  {
   "cell_type": "code",
   "execution_count": 37,
   "metadata": {
    "collapsed": true
   },
   "outputs": [],
   "source": [
    "from sklearn.ensemble import RandomForestClassifier "
   ]
  },
  {
   "cell_type": "code",
   "execution_count": 38,
   "metadata": {},
   "outputs": [
    {
     "name": "stdout",
     "output_type": "stream",
     "text": [
      "Accuracy of test data:  0.675460549608\n",
      "Accuracy of training data:  0.985749161185\n",
      "\n",
      "\n",
      "Classification report summary of Random Forest Classifier\n",
      "             precision    recall  f1-score   support\n",
      "\n",
      "          0       0.73      0.67      0.70     46130\n",
      "          1       0.62      0.68      0.65     35783\n",
      "\n",
      "avg / total       0.68      0.68      0.68     81913\n",
      "\n"
     ]
    }
   ],
   "source": [
    "random=RandomForestClassifier()\n",
    "random.fit(X_train,Y_train)\n",
    "print ('Accuracy of test data: ',(accuracy_score(random.predict(X_test), Y_test)))\n",
    "print ('Accuracy of training data: ',(accuracy_score(random.predict(X_train), Y_train)))\n",
    "print(\"\\n\")\n",
    "print ('Classification report summary of Random Forest Classifier')\n",
    "print(classification_report(random.predict(X_test), Y_test))"
   ]
  },
  {
   "cell_type": "code",
   "execution_count": null,
   "metadata": {
    "collapsed": true
   },
   "outputs": [],
   "source": []
  }
 ],
 "metadata": {
  "kernelspec": {
   "display_name": "Python 3",
   "language": "python",
   "name": "python3"
  },
  "language_info": {
   "codemirror_mode": {
    "name": "ipython",
    "version": 3
   },
   "file_extension": ".py",
   "mimetype": "text/x-python",
   "name": "python",
   "nbconvert_exporter": "python",
   "pygments_lexer": "ipython3",
   "version": "3.6.0"
  }
 },
 "nbformat": 4,
 "nbformat_minor": 2
}

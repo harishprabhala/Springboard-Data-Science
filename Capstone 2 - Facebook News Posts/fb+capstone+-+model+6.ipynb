{
 "cells": [
  {
   "cell_type": "code",
   "execution_count": 1,
   "metadata": {
    "collapsed": true
   },
   "outputs": [],
   "source": [
    "%matplotlib inline\n",
    "import numpy as np\n",
    "import pandas as pd\n",
    "import nltk\n",
    "import string\n",
    "import matplotlib.pyplot as plt\n",
    "import seaborn as sns"
   ]
  },
  {
   "cell_type": "code",
   "execution_count": 2,
   "metadata": {
    "collapsed": true
   },
   "outputs": [],
   "source": [
    "fb_percentiles = pd.read_excel('/Users/harishprabhala/Downloads/martinchek-2012-2016-facebook-posts/fb_posts_percentiles.xlsx')"
   ]
  },
  {
   "cell_type": "code",
   "execution_count": 3,
   "metadata": {
    "collapsed": true
   },
   "outputs": [],
   "source": [
    "fb_percentiles['full_text'] = fb_percentiles['name'].map(str) + ' ' + fb_percentiles['message'].map(str) + ' ' + fb_percentiles['description'].map(str)"
   ]
  },
  {
   "cell_type": "code",
   "execution_count": 4,
   "metadata": {
    "collapsed": true
   },
   "outputs": [],
   "source": [
    "fb_percentiles_copy = fb_percentiles[['full_text','likes_count','shares_count','likes_percentile','shares_percentile']]"
   ]
  },
  {
   "cell_type": "code",
   "execution_count": 5,
   "metadata": {},
   "outputs": [
    {
     "data": {
      "text/html": [
       "<div>\n",
       "<table border=\"1\" class=\"dataframe\">\n",
       "  <thead>\n",
       "    <tr style=\"text-align: right;\">\n",
       "      <th></th>\n",
       "      <th>full_text</th>\n",
       "      <th>likes_count</th>\n",
       "      <th>shares_count</th>\n",
       "      <th>likes_percentile</th>\n",
       "      <th>shares_percentile</th>\n",
       "    </tr>\n",
       "  </thead>\n",
       "  <tbody>\n",
       "    <tr>\n",
       "      <th>0</th>\n",
       "      <td>Chief Justice Roberts Responds to Judicial Eth...</td>\n",
       "      <td>61</td>\n",
       "      <td>12</td>\n",
       "      <td>0.056</td>\n",
       "      <td>0.098</td>\n",
       "    </tr>\n",
       "    <tr>\n",
       "      <th>1</th>\n",
       "      <td>With Reservations, Obama Signs Act to Allow De...</td>\n",
       "      <td>120</td>\n",
       "      <td>171</td>\n",
       "      <td>0.224</td>\n",
       "      <td>0.751</td>\n",
       "    </tr>\n",
       "    <tr>\n",
       "      <th>2</th>\n",
       "      <td>Wishes For 2012 to Fall on Times Square Some p...</td>\n",
       "      <td>271</td>\n",
       "      <td>0</td>\n",
       "      <td>0.582</td>\n",
       "      <td>0.000</td>\n",
       "    </tr>\n",
       "    <tr>\n",
       "      <th>3</th>\n",
       "      <td>Mitt Romney Vows to Veto Dream Act if Presiden...</td>\n",
       "      <td>140</td>\n",
       "      <td>23</td>\n",
       "      <td>0.291</td>\n",
       "      <td>0.187</td>\n",
       "    </tr>\n",
       "    <tr>\n",
       "      <th>4</th>\n",
       "      <td>NY Pharmacy Shootout Leaves Suspect, ATF Agent...</td>\n",
       "      <td>59</td>\n",
       "      <td>34</td>\n",
       "      <td>0.051</td>\n",
       "      <td>0.269</td>\n",
       "    </tr>\n",
       "  </tbody>\n",
       "</table>\n",
       "</div>"
      ],
      "text/plain": [
       "                                           full_text  likes_count  \\\n",
       "0  Chief Justice Roberts Responds to Judicial Eth...           61   \n",
       "1  With Reservations, Obama Signs Act to Allow De...          120   \n",
       "2  Wishes For 2012 to Fall on Times Square Some p...          271   \n",
       "3  Mitt Romney Vows to Veto Dream Act if Presiden...          140   \n",
       "4  NY Pharmacy Shootout Leaves Suspect, ATF Agent...           59   \n",
       "\n",
       "   shares_count  likes_percentile  shares_percentile  \n",
       "0            12             0.056              0.098  \n",
       "1           171             0.224              0.751  \n",
       "2             0             0.582              0.000  \n",
       "3            23             0.291              0.187  \n",
       "4            34             0.051              0.269  "
      ]
     },
     "execution_count": 5,
     "metadata": {},
     "output_type": "execute_result"
    }
   ],
   "source": [
    "fb_percentiles_copy.head()"
   ]
  },
  {
   "cell_type": "code",
   "execution_count": 6,
   "metadata": {},
   "outputs": [
    {
     "name": "stderr",
     "output_type": "stream",
     "text": [
      "/Users/harishprabhala/anaconda/lib/python3.6/site-packages/ipykernel/__main__.py:1: SettingWithCopyWarning: \n",
      "A value is trying to be set on a copy of a slice from a DataFrame.\n",
      "Try using .loc[row_indexer,col_indexer] = value instead\n",
      "\n",
      "See the caveats in the documentation: http://pandas.pydata.org/pandas-docs/stable/indexing.html#indexing-view-versus-copy\n",
      "  if __name__ == '__main__':\n"
     ]
    }
   ],
   "source": [
    "fb_percentiles_copy['likes_class'] = fb_percentiles_copy['likes_percentile'].apply(lambda x: '1' if x > 0.75 else '0') "
   ]
  },
  {
   "cell_type": "code",
   "execution_count": 7,
   "metadata": {},
   "outputs": [
    {
     "data": {
      "text/html": [
       "<div>\n",
       "<table border=\"1\" class=\"dataframe\">\n",
       "  <thead>\n",
       "    <tr style=\"text-align: right;\">\n",
       "      <th></th>\n",
       "      <th>full_text</th>\n",
       "      <th>likes_count</th>\n",
       "      <th>shares_count</th>\n",
       "      <th>likes_percentile</th>\n",
       "      <th>shares_percentile</th>\n",
       "      <th>likes_class</th>\n",
       "    </tr>\n",
       "  </thead>\n",
       "  <tbody>\n",
       "    <tr>\n",
       "      <th>0</th>\n",
       "      <td>Chief Justice Roberts Responds to Judicial Eth...</td>\n",
       "      <td>61</td>\n",
       "      <td>12</td>\n",
       "      <td>0.056</td>\n",
       "      <td>0.098</td>\n",
       "      <td>0</td>\n",
       "    </tr>\n",
       "    <tr>\n",
       "      <th>1</th>\n",
       "      <td>With Reservations, Obama Signs Act to Allow De...</td>\n",
       "      <td>120</td>\n",
       "      <td>171</td>\n",
       "      <td>0.224</td>\n",
       "      <td>0.751</td>\n",
       "      <td>0</td>\n",
       "    </tr>\n",
       "    <tr>\n",
       "      <th>2</th>\n",
       "      <td>Wishes For 2012 to Fall on Times Square Some p...</td>\n",
       "      <td>271</td>\n",
       "      <td>0</td>\n",
       "      <td>0.582</td>\n",
       "      <td>0.000</td>\n",
       "      <td>0</td>\n",
       "    </tr>\n",
       "    <tr>\n",
       "      <th>3</th>\n",
       "      <td>Mitt Romney Vows to Veto Dream Act if Presiden...</td>\n",
       "      <td>140</td>\n",
       "      <td>23</td>\n",
       "      <td>0.291</td>\n",
       "      <td>0.187</td>\n",
       "      <td>0</td>\n",
       "    </tr>\n",
       "    <tr>\n",
       "      <th>4</th>\n",
       "      <td>NY Pharmacy Shootout Leaves Suspect, ATF Agent...</td>\n",
       "      <td>59</td>\n",
       "      <td>34</td>\n",
       "      <td>0.051</td>\n",
       "      <td>0.269</td>\n",
       "      <td>0</td>\n",
       "    </tr>\n",
       "  </tbody>\n",
       "</table>\n",
       "</div>"
      ],
      "text/plain": [
       "                                           full_text  likes_count  \\\n",
       "0  Chief Justice Roberts Responds to Judicial Eth...           61   \n",
       "1  With Reservations, Obama Signs Act to Allow De...          120   \n",
       "2  Wishes For 2012 to Fall on Times Square Some p...          271   \n",
       "3  Mitt Romney Vows to Veto Dream Act if Presiden...          140   \n",
       "4  NY Pharmacy Shootout Leaves Suspect, ATF Agent...           59   \n",
       "\n",
       "   shares_count  likes_percentile  shares_percentile likes_class  \n",
       "0            12             0.056              0.098           0  \n",
       "1           171             0.224              0.751           0  \n",
       "2             0             0.582              0.000           0  \n",
       "3            23             0.291              0.187           0  \n",
       "4            34             0.051              0.269           0  "
      ]
     },
     "execution_count": 7,
     "metadata": {},
     "output_type": "execute_result"
    }
   ],
   "source": [
    "fb_percentiles_copy.head()"
   ]
  },
  {
   "cell_type": "code",
   "execution_count": 8,
   "metadata": {},
   "outputs": [
    {
     "name": "stderr",
     "output_type": "stream",
     "text": [
      "/Users/harishprabhala/anaconda/lib/python3.6/site-packages/sklearn/cross_validation.py:44: DeprecationWarning: This module was deprecated in version 0.18 in favor of the model_selection module into which all the refactored classes and functions are moved. Also note that the interface of the new CV iterators are different from that of this module. This module will be removed in 0.20.\n",
      "  \"This module will be removed in 0.20.\", DeprecationWarning)\n"
     ]
    }
   ],
   "source": [
    "from sklearn.cross_validation import train_test_split\n",
    "from sklearn import metrics\n",
    "from sklearn.naive_bayes import MultinomialNB\n",
    "from sklearn import linear_model\n",
    "from sklearn.metrics import recall_score\n",
    "from sklearn.metrics import accuracy_score\n",
    "from sklearn.model_selection import KFold\n",
    "from sklearn.metrics import classification_report"
   ]
  },
  {
   "cell_type": "code",
   "execution_count": 9,
   "metadata": {},
   "outputs": [
    {
     "name": "stdout",
     "output_type": "stream",
     "text": [
      "[nltk_data] Downloading package punkt to\n",
      "[nltk_data]     /Users/harishprabhala/nltk_data...\n",
      "[nltk_data]   Package punkt is already up-to-date!\n"
     ]
    }
   ],
   "source": [
    "nltk.download('punkt')\n",
    "from nltk.tokenize import sent_tokenize, word_tokenize\n",
    "from nltk.stem import WordNetLemmatizer\n",
    "from nltk.corpus import stopwords\n",
    "from nltk.tokenize import RegexpTokenizer\n",
    "import re\n",
    "import gensim.parsing.preprocessing as process"
   ]
  },
  {
   "cell_type": "code",
   "execution_count": 10,
   "metadata": {
    "collapsed": true
   },
   "outputs": [],
   "source": [
    "from sklearn.feature_selection import SelectKBest\n",
    "from sklearn.feature_selection import chi2"
   ]
  },
  {
   "cell_type": "code",
   "execution_count": 11,
   "metadata": {
    "collapsed": true
   },
   "outputs": [],
   "source": [
    "lemmatizer = WordNetLemmatizer()"
   ]
  },
  {
   "cell_type": "code",
   "execution_count": 12,
   "metadata": {
    "collapsed": true
   },
   "outputs": [],
   "source": [
    "def preprocess (line):\n",
    "    line = re.sub(r\"http\\S+\", \"\", line)\n",
    "    line = re.sub(r\"Photos\", \"\", line)\n",
    "    line = re.sub(r\"Timeline\", \"\", line)\n",
    "    line = re.sub(r\"nan\", \"\", line)\n",
    "    line = re.sub(r\"photo\", \"\", line)\n",
    "    line = line.lower()\n",
    "    line = process.remove_stopwords(line)\n",
    "    line = process.strip_numeric(line)\n",
    "    line = process.strip_punctuation(line)\n",
    "    line = process.strip_short(line)\n",
    "    line = process.strip_multiple_whitespaces(line)\n",
    "    tokens = sent_tokenize(line)\n",
    "    stemmed = [w for w in tokens if lemmatizer.lemmatize(w)] \n",
    "    return ' '.join(stemmed)"
   ]
  },
  {
   "cell_type": "code",
   "execution_count": 13,
   "metadata": {
    "collapsed": true
   },
   "outputs": [],
   "source": [
    "text = []\n",
    "for w in fb_percentiles_copy['full_text']:\n",
    "    text.append(preprocess(w))"
   ]
  },
  {
   "cell_type": "code",
   "execution_count": 14,
   "metadata": {
    "collapsed": true
   },
   "outputs": [],
   "source": [
    "X,y = text, fb_percentiles_copy['likes_class']"
   ]
  },
  {
   "cell_type": "code",
   "execution_count": 15,
   "metadata": {
    "collapsed": true
   },
   "outputs": [],
   "source": [
    "from sklearn.feature_extraction.text import CountVectorizer"
   ]
  },
  {
   "cell_type": "code",
   "execution_count": 16,
   "metadata": {
    "collapsed": true
   },
   "outputs": [],
   "source": [
    "vectorizer = CountVectorizer()\n",
    "X_1 = vectorizer.fit_transform(X)"
   ]
  },
  {
   "cell_type": "code",
   "execution_count": 17,
   "metadata": {
    "collapsed": true
   },
   "outputs": [],
   "source": [
    "from sklearn.feature_selection import chi2"
   ]
  },
  {
   "cell_type": "code",
   "execution_count": 18,
   "metadata": {
    "collapsed": true
   },
   "outputs": [],
   "source": [
    "X_new = SelectKBest(chi2, k=28000).fit_transform(X_1, y)"
   ]
  },
  {
   "cell_type": "code",
   "execution_count": 19,
   "metadata": {
    "collapsed": true
   },
   "outputs": [],
   "source": [
    "from sklearn.cross_validation import StratifiedKFold"
   ]
  },
  {
   "cell_type": "code",
   "execution_count": 20,
   "metadata": {
    "collapsed": true
   },
   "outputs": [],
   "source": [
    "kf = StratifiedKFold(y,n_folds=5, shuffle=True)\n",
    "for train, test in kf:\n",
    "    X1_train, X1_test = X_new[train], X_new[test]\n",
    "    Y1_train, Y1_test = y[train], y[test]"
   ]
  },
  {
   "cell_type": "code",
   "execution_count": 21,
   "metadata": {},
   "outputs": [
    {
     "data": {
      "text/plain": [
       "((402252, 28000), (100562, 28000), (402252,), (100562,))"
      ]
     },
     "execution_count": 21,
     "metadata": {},
     "output_type": "execute_result"
    }
   ],
   "source": [
    "X1_train.shape, X1_test.shape, Y1_train.shape, Y1_test.shape"
   ]
  },
  {
   "cell_type": "code",
   "execution_count": 22,
   "metadata": {
    "collapsed": true
   },
   "outputs": [],
   "source": [
    "from sklearn.linear_model import LogisticRegression"
   ]
  },
  {
   "cell_type": "code",
   "execution_count": 33,
   "metadata": {},
   "outputs": [
    {
     "name": "stderr",
     "output_type": "stream",
     "text": [
      "/Users/harishprabhala/anaconda/lib/python3.6/site-packages/sklearn/utils/class_weight.py:65: DeprecationWarning: The class_weight='auto' heuristic is deprecated in 0.17 in favor of a new heuristic class_weight='balanced'. 'auto' will be removed in 0.19\n",
      "  \" 0.19\", DeprecationWarning)\n"
     ]
    },
    {
     "name": "stdout",
     "output_type": "stream",
     "text": [
      "Accuracy of test data:  0.694288100873\n",
      "Accuracy of training data:  0.724781977467\n",
      "\n",
      "\n",
      "Classification report summary of Logistic Regression\n",
      "             precision    recall  f1-score   support\n",
      "\n",
      "          0       0.71      0.86      0.78     63086\n",
      "          1       0.64      0.41      0.50     37476\n",
      "\n",
      "avg / total       0.68      0.69      0.68    100562\n",
      "\n"
     ]
    }
   ],
   "source": [
    "logit=LogisticRegression(C=10, class_weight='auto')\n",
    "logit.fit(X1_train,Y1_train)\n",
    "print ('Accuracy of test data: ',(accuracy_score(logit.predict(X1_test), Y1_test)))\n",
    "print ('Accuracy of training data: ',(accuracy_score(logit.predict(X1_train), Y1_train)))\n",
    "print(\"\\n\")\n",
    "print ('Classification report summary of Logistic Regression')\n",
    "print(classification_report(logit.predict(X1_test), Y1_test))"
   ]
  },
  {
   "cell_type": "code",
   "execution_count": 23,
   "metadata": {
    "collapsed": true
   },
   "outputs": [],
   "source": [
    "from sklearn.metrics import precision_recall_fscore_support"
   ]
  },
  {
   "cell_type": "code",
   "execution_count": 28,
   "metadata": {
    "collapsed": true
   },
   "outputs": [],
   "source": [
    "from sklearn.metrics import roc_curve, auc, roc_auc_score"
   ]
  },
  {
   "cell_type": "code",
   "execution_count": 29,
   "metadata": {
    "collapsed": true
   },
   "outputs": [],
   "source": [
    "y_true_auc = np.array(Y1_test).astype(int)\n",
    "y_pred_auc = np.array(logit.predict(X1_test)).astype(int)"
   ]
  },
  {
   "cell_type": "code",
   "execution_count": 28,
   "metadata": {},
   "outputs": [
    {
     "data": {
      "text/plain": [
       "0.59235634433122242"
      ]
     },
     "execution_count": 28,
     "metadata": {},
     "output_type": "execute_result"
    }
   ],
   "source": [
    "Logistic_auc = roc_auc_score(y_true_auc, y_pred_auc)\n",
    "Logistic_auc"
   ]
  },
  {
   "cell_type": "code",
   "execution_count": 32,
   "metadata": {},
   "outputs": [
    {
     "name": "stdout",
     "output_type": "stream",
     "text": [
      "(0.74615561575850609, 0.77589944511843445, 0.73721594482787689, None)\n"
     ]
    }
   ],
   "source": [
    "print(precision_recall_fscore_support(y_true_auc, y_pred_auc,average='weighted'))"
   ]
  },
  {
   "cell_type": "code",
   "execution_count": 29,
   "metadata": {
    "collapsed": true
   },
   "outputs": [],
   "source": [
    "probas2_ = logit.predict_proba(X1_test)[:,1]"
   ]
  },
  {
   "cell_type": "code",
   "execution_count": 30,
   "metadata": {
    "collapsed": true
   },
   "outputs": [],
   "source": [
    "fpr2,tpr2,_ = roc_curve(y_true_auc, probas2_)"
   ]
  },
  {
   "cell_type": "code",
   "execution_count": 33,
   "metadata": {},
   "outputs": [
    {
     "data": {
      "image/png": "[encoded data removed]",
      "text/plain": [
       "<matplotlib.figure.Figure at 0x133fa09e8>"
      ]
     },
     "metadata": {},
     "output_type": "display_data"
    }
   ],
   "source": [
    "plt.plot(fpr2,tpr2, label=('Logistic %.2f' %Logistic_auc))\n",
    "plt.plot([0,1],[0,1],'r--')\n",
    "plt.xlim(0,1)\n",
    "plt.ylim(0,1)\n",
    "plt.ylabel('True Postive Rate')\n",
    "plt.xlabel('False Positive Rate')\n",
    "plt.show()"
   ]
  },
  {
   "cell_type": "code",
   "execution_count": null,
   "metadata": {
    "collapsed": true
   },
   "outputs": [],
   "source": []
  }
 ],
 "metadata": {
  "kernelspec": {
   "display_name": "Python 3",
   "language": "python",
   "name": "python3"
  },
  "language_info": {
   "codemirror_mode": {
    "name": "ipython",
    "version": 3
   },
   "file_extension": ".py",
   "mimetype": "text/x-python",
   "name": "python",
   "nbconvert_exporter": "python",
   "pygments_lexer": "ipython3",
   "version": "3.6.0"
  }
 },
 "nbformat": 4,
 "nbformat_minor": 2
}

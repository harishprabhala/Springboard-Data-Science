{
 "cells": [
  {
   "cell_type": "code",
   "execution_count": 1,
   "metadata": {
    "collapsed": false
   },
   "outputs": [],
   "source": [
    "%matplotlib inline\n",
    "import numpy as np\n",
    "import pandas as pd\n",
    "import nltk\n",
    "import string\n",
    "import matplotlib.pyplot as plt\n",
    "import scipy.sparse as sparse\n",
    "import spacy\n",
    "import seaborn as sns\n",
    "nlp = spacy.load('en')"
   ]
  },
  {
   "cell_type": "code",
   "execution_count": 2,
   "metadata": {
    "collapsed": false
   },
   "outputs": [],
   "source": [
    "pet = pd.read_json('/Users/harishprabhala/Downloads/Pet_Supplies_5.json', lines=True)"
   ]
  },
  {
   "cell_type": "code",
   "execution_count": 3,
   "metadata": {
    "collapsed": false
   },
   "outputs": [
    {
     "data": {
      "text/html": [
       "<div>\n",
       "<table border=\"1\" class=\"dataframe\">\n",
       "  <thead>\n",
       "    <tr style=\"text-align: right;\">\n",
       "      <th></th>\n",
       "      <th>asin</th>\n",
       "      <th>helpful</th>\n",
       "      <th>overall</th>\n",
       "      <th>reviewText</th>\n",
       "      <th>reviewTime</th>\n",
       "      <th>reviewerID</th>\n",
       "      <th>reviewerName</th>\n",
       "      <th>summary</th>\n",
       "      <th>unixReviewTime</th>\n",
       "    </tr>\n",
       "  </thead>\n",
       "  <tbody>\n",
       "    <tr>\n",
       "      <th>0</th>\n",
       "      <td>1223000893</td>\n",
       "      <td>[0, 0]</td>\n",
       "      <td>3</td>\n",
       "      <td>I purchased the Trilogy with hoping my two cat...</td>\n",
       "      <td>01 12, 2011</td>\n",
       "      <td>A14CK12J7C7JRK</td>\n",
       "      <td>Consumer in NorCal</td>\n",
       "      <td>Nice Distraction for my cats for about 15 minutes</td>\n",
       "      <td>1294790400</td>\n",
       "    </tr>\n",
       "    <tr>\n",
       "      <th>1</th>\n",
       "      <td>1223000893</td>\n",
       "      <td>[0, 0]</td>\n",
       "      <td>5</td>\n",
       "      <td>There are usually one or more of my cats watch...</td>\n",
       "      <td>09 14, 2013</td>\n",
       "      <td>A39QHP5WLON5HV</td>\n",
       "      <td>Melodee Placial</td>\n",
       "      <td>Entertaining for my cats</td>\n",
       "      <td>1379116800</td>\n",
       "    </tr>\n",
       "    <tr>\n",
       "      <th>2</th>\n",
       "      <td>1223000893</td>\n",
       "      <td>[0, 0]</td>\n",
       "      <td>4</td>\n",
       "      <td>I bought the triliogy and have tested out all ...</td>\n",
       "      <td>12 19, 2012</td>\n",
       "      <td>A2CR37UY3VR7BN</td>\n",
       "      <td>Michelle Ashbery</td>\n",
       "      <td>Entertaining</td>\n",
       "      <td>1355875200</td>\n",
       "    </tr>\n",
       "    <tr>\n",
       "      <th>3</th>\n",
       "      <td>1223000893</td>\n",
       "      <td>[2, 2]</td>\n",
       "      <td>4</td>\n",
       "      <td>My female kitty could care less about these vi...</td>\n",
       "      <td>05 12, 2011</td>\n",
       "      <td>A2A4COGL9VW2HY</td>\n",
       "      <td>Michelle P</td>\n",
       "      <td>Happy to have them</td>\n",
       "      <td>1305158400</td>\n",
       "    </tr>\n",
       "    <tr>\n",
       "      <th>4</th>\n",
       "      <td>1223000893</td>\n",
       "      <td>[6, 7]</td>\n",
       "      <td>3</td>\n",
       "      <td>If I had gotten just volume two, I would have ...</td>\n",
       "      <td>03 5, 2012</td>\n",
       "      <td>A2UBQA85NIGLHA</td>\n",
       "      <td>Tim  Isenhour \"Timbo\"</td>\n",
       "      <td>You really only need vol 2</td>\n",
       "      <td>1330905600</td>\n",
       "    </tr>\n",
       "  </tbody>\n",
       "</table>\n",
       "</div>"
      ],
      "text/plain": [
       "         asin helpful  overall  \\\n",
       "0  1223000893  [0, 0]        3   \n",
       "1  1223000893  [0, 0]        5   \n",
       "2  1223000893  [0, 0]        4   \n",
       "3  1223000893  [2, 2]        4   \n",
       "4  1223000893  [6, 7]        3   \n",
       "\n",
       "                                          reviewText   reviewTime  \\\n",
       "0  I purchased the Trilogy with hoping my two cat...  01 12, 2011   \n",
       "1  There are usually one or more of my cats watch...  09 14, 2013   \n",
       "2  I bought the triliogy and have tested out all ...  12 19, 2012   \n",
       "3  My female kitty could care less about these vi...  05 12, 2011   \n",
       "4  If I had gotten just volume two, I would have ...   03 5, 2012   \n",
       "\n",
       "       reviewerID           reviewerName  \\\n",
       "0  A14CK12J7C7JRK     Consumer in NorCal   \n",
       "1  A39QHP5WLON5HV        Melodee Placial   \n",
       "2  A2CR37UY3VR7BN       Michelle Ashbery   \n",
       "3  A2A4COGL9VW2HY             Michelle P   \n",
       "4  A2UBQA85NIGLHA  Tim  Isenhour \"Timbo\"   \n",
       "\n",
       "                                             summary  unixReviewTime  \n",
       "0  Nice Distraction for my cats for about 15 minutes      1294790400  \n",
       "1                           Entertaining for my cats      1379116800  \n",
       "2                                       Entertaining      1355875200  \n",
       "3                                 Happy to have them      1305158400  \n",
       "4                         You really only need vol 2      1330905600  "
      ]
     },
     "execution_count": 3,
     "metadata": {},
     "output_type": "execute_result"
    }
   ],
   "source": [
    "pet.head()"
   ]
  },
  {
   "cell_type": "code",
   "execution_count": 4,
   "metadata": {
    "collapsed": false,
    "scrolled": true
   },
   "outputs": [],
   "source": [
    "pet = pet[['overall','reviewText']]"
   ]
  },
  {
   "cell_type": "code",
   "execution_count": 5,
   "metadata": {
    "collapsed": false
   },
   "outputs": [
    {
     "data": {
      "text/plain": [
       "overall       0\n",
       "reviewText    0\n",
       "dtype: int64"
      ]
     },
     "execution_count": 5,
     "metadata": {},
     "output_type": "execute_result"
    }
   ],
   "source": [
    "pet.isnull().sum()"
   ]
  },
  {
   "cell_type": "code",
   "execution_count": 6,
   "metadata": {
    "collapsed": false,
    "scrolled": true
   },
   "outputs": [
    {
     "data": {
      "text/html": [
       "<div>\n",
       "<table border=\"1\" class=\"dataframe\">\n",
       "  <thead>\n",
       "    <tr style=\"text-align: right;\">\n",
       "      <th></th>\n",
       "      <th>overall</th>\n",
       "      <th>reviewText</th>\n",
       "    </tr>\n",
       "  </thead>\n",
       "  <tbody>\n",
       "    <tr>\n",
       "      <th>0</th>\n",
       "      <td>3</td>\n",
       "      <td>I purchased the Trilogy with hoping my two cat...</td>\n",
       "    </tr>\n",
       "    <tr>\n",
       "      <th>1</th>\n",
       "      <td>5</td>\n",
       "      <td>There are usually one or more of my cats watch...</td>\n",
       "    </tr>\n",
       "    <tr>\n",
       "      <th>2</th>\n",
       "      <td>4</td>\n",
       "      <td>I bought the triliogy and have tested out all ...</td>\n",
       "    </tr>\n",
       "    <tr>\n",
       "      <th>3</th>\n",
       "      <td>4</td>\n",
       "      <td>My female kitty could care less about these vi...</td>\n",
       "    </tr>\n",
       "    <tr>\n",
       "      <th>4</th>\n",
       "      <td>3</td>\n",
       "      <td>If I had gotten just volume two, I would have ...</td>\n",
       "    </tr>\n",
       "  </tbody>\n",
       "</table>\n",
       "</div>"
      ],
      "text/plain": [
       "   overall                                         reviewText\n",
       "0        3  I purchased the Trilogy with hoping my two cat...\n",
       "1        5  There are usually one or more of my cats watch...\n",
       "2        4  I bought the triliogy and have tested out all ...\n",
       "3        4  My female kitty could care less about these vi...\n",
       "4        3  If I had gotten just volume two, I would have ..."
      ]
     },
     "execution_count": 6,
     "metadata": {},
     "output_type": "execute_result"
    }
   ],
   "source": [
    "pet.head()"
   ]
  },
  {
   "cell_type": "code",
   "execution_count": 7,
   "metadata": {
    "collapsed": false
   },
   "outputs": [
    {
     "data": {
      "text/plain": [
       "4.229744798398338"
      ]
     },
     "execution_count": 7,
     "metadata": {},
     "output_type": "execute_result"
    }
   ],
   "source": [
    "pet['overall'].mean()"
   ]
  },
  {
   "cell_type": "code",
   "execution_count": 8,
   "metadata": {
    "collapsed": false
   },
   "outputs": [
    {
     "data": {
      "text/plain": [
       "overall\n",
       "1     8748\n",
       "2     8907\n",
       "3    15933\n",
       "4    27995\n",
       "5    96253\n",
       "Name: reviewText, dtype: int64"
      ]
     },
     "execution_count": 8,
     "metadata": {},
     "output_type": "execute_result"
    }
   ],
   "source": [
    "pet.groupby('overall')['reviewText'].count()"
   ]
  },
  {
   "cell_type": "code",
   "execution_count": 9,
   "metadata": {
    "collapsed": false
   },
   "outputs": [],
   "source": [
    "pet[\"overall\"] = pet[\"overall\"].apply(lambda x: '1' if x > 3 else '0') "
   ]
  },
  {
   "cell_type": "code",
   "execution_count": 10,
   "metadata": {
    "collapsed": false
   },
   "outputs": [
    {
     "data": {
      "text/plain": [
       "<matplotlib.axes._subplots.AxesSubplot at 0x145b871d0>"
      ]
     },
     "execution_count": 10,
     "metadata": {},
     "output_type": "execute_result"
    },
    {
     "data": {
      "image/png": "[encoded data removed]",
      "text/plain": [
       "<matplotlib.figure.Figure at 0x145b81198>"
      ]
     },
     "metadata": {},
     "output_type": "display_data"
    }
   ],
   "source": [
    "pet['overall'].value_counts('1').plot(kind='Bar', color=['r','b'])"
   ]
  },
  {
   "cell_type": "code",
   "execution_count": 11,
   "metadata": {
    "collapsed": false
   },
   "outputs": [
    {
     "data": {
      "text/plain": [
       "1    78.719684\n",
       "0    21.280316\n",
       "Name: overall, dtype: float64"
      ]
     },
     "execution_count": 11,
     "metadata": {},
     "output_type": "execute_result"
    }
   ],
   "source": [
    "pet['overall'].value_counts('1')*100"
   ]
  },
  {
   "cell_type": "code",
   "execution_count": 12,
   "metadata": {
    "collapsed": false
   },
   "outputs": [
    {
     "name": "stdout",
     "output_type": "stream",
     "text": [
      "[nltk_data] Downloading package punkt to\n",
      "[nltk_data]     /Users/harishprabhala/nltk_data...\n",
      "[nltk_data]   Package punkt is already up-to-date!\n"
     ]
    }
   ],
   "source": [
    "nltk.download('punkt')\n",
    "from nltk.tokenize import sent_tokenize, word_tokenize\n",
    "from nltk.tokenize import RegexpTokenizer\n",
    "from nltk.stem import WordNetLemmatizer\n",
    "from nltk.corpus import stopwords\n",
    "from nltk import FreqDist\n",
    "\n",
    "nlp = spacy.load('en')"
   ]
  },
  {
   "cell_type": "code",
   "execution_count": 13,
   "metadata": {
    "collapsed": false
   },
   "outputs": [],
   "source": [
    "stop = stopwords.words('english')\n",
    "lemmatizer = WordNetLemmatizer()"
   ]
  },
  {
   "cell_type": "code",
   "execution_count": 14,
   "metadata": {
    "collapsed": true
   },
   "outputs": [],
   "source": [
    "tokens = pet[\"reviewText\"].apply(nltk.word_tokenize)"
   ]
  },
  {
   "cell_type": "code",
   "execution_count": 15,
   "metadata": {
    "collapsed": false
   },
   "outputs": [
    {
     "data": {
      "text/plain": [
       "157836"
      ]
     },
     "execution_count": 15,
     "metadata": {},
     "output_type": "execute_result"
    }
   ],
   "source": [
    "tokens.count()"
   ]
  },
  {
   "cell_type": "code",
   "execution_count": 16,
   "metadata": {
    "collapsed": false
   },
   "outputs": [
    {
     "data": {
      "text/plain": [
       "0    [I, purchased, the, Trilogy, with, hoping, my,...\n",
       "1    [There, are, usually, one, or, more, of, my, c...\n",
       "2    [I, bought, the, triliogy, and, have, tested, ...\n",
       "3    [My, female, kitty, could, care, less, about, ...\n",
       "4    [If, I, had, gotten, just, volume, two, ,, I, ...\n",
       "Name: reviewText, dtype: object"
      ]
     },
     "execution_count": 16,
     "metadata": {},
     "output_type": "execute_result"
    }
   ],
   "source": [
    "tokens.head()"
   ]
  },
  {
   "cell_type": "code",
   "execution_count": 17,
   "metadata": {
    "collapsed": true
   },
   "outputs": [],
   "source": [
    "allwords = []\n",
    "for words in tokens:\n",
    "    allwords += words"
   ]
  },
  {
   "cell_type": "code",
   "execution_count": 18,
   "metadata": {
    "collapsed": false
   },
   "outputs": [],
   "source": [
    "lower_words = (x.lower() for x in allwords)"
   ]
  },
  {
   "cell_type": "code",
   "execution_count": 19,
   "metadata": {
    "collapsed": true
   },
   "outputs": [],
   "source": [
    "stop_sentence = [w for w in lower_words if not w in stop]"
   ]
  },
  {
   "cell_type": "code",
   "execution_count": 65,
   "metadata": {
    "collapsed": true
   },
   "outputs": [],
   "source": [
    "punc = [w for w in stop_sentence if not w in string.punctuation]"
   ]
  },
  {
   "cell_type": "code",
   "execution_count": 67,
   "metadata": {
    "collapsed": false
   },
   "outputs": [
    {
     "data": {
      "text/plain": [
       "['purchased',\n",
       " 'trilogy',\n",
       " 'hoping',\n",
       " 'two',\n",
       " 'cats',\n",
       " 'age',\n",
       " '3',\n",
       " '5',\n",
       " 'would',\n",
       " 'interested',\n",
       " '3',\n",
       " 'yr',\n",
       " 'old',\n",
       " 'cat',\n",
       " 'fascinated',\n",
       " '15',\n",
       " 'minutes',\n",
       " 'pictures',\n",
       " 'came',\n",
       " 'got',\n",
       " 'bored',\n",
       " '5',\n",
       " 'year',\n",
       " 'old',\n",
       " 'watched',\n",
       " 'minutes',\n",
       " 'walked',\n",
       " 'away',\n",
       " 'possible',\n",
       " 'wonderful',\n",
       " 'courtyard',\n",
       " 'full',\n",
       " 'greenery',\n",
       " 'trees',\n",
       " 'one',\n",
       " 'neighbors',\n",
       " 'bird',\n",
       " 'feeder',\n",
       " 'enough',\n",
       " 'going',\n",
       " 'outside',\n",
       " 'prefer',\n",
       " 'real',\n",
       " 'life',\n",
       " 'versus',\n",
       " 'taped',\n",
       " 'version',\n",
       " 'likely',\n",
       " 'pass',\n",
       " 'friend',\n",
       " 'cats',\n",
       " \"n't\",\n",
       " 'much',\n",
       " 'wildlife',\n",
       " 'watch',\n",
       " 'mine',\n",
       " 'usually',\n",
       " 'one',\n",
       " 'cats',\n",
       " 'watching',\n",
       " 'tv',\n",
       " 'staying',\n",
       " 'trouble',\n",
       " 'dvd',\n",
       " 'playing',\n",
       " 'seem',\n",
       " 'like',\n",
       " 'mice',\n",
       " 'birds',\n",
       " 'maybe',\n",
       " 'go',\n",
       " 'little',\n",
       " 'less',\n",
       " 'stir',\n",
       " 'crazy',\n",
       " 'inside',\n",
       " 'time',\n",
       " 'bought',\n",
       " 'triliogy',\n",
       " 'tested',\n",
       " 'dvds',\n",
       " 'appears',\n",
       " 'volume',\n",
       " '2',\n",
       " 'well',\n",
       " 'received',\n",
       " 'three',\n",
       " 'one',\n",
       " 'would',\n",
       " 'recommend',\n",
       " \"'s\",\n",
       " 'funny',\n",
       " 'watch',\n",
       " 'cat',\n",
       " 'watch',\n",
       " 'bc',\n",
       " 'looks',\n",
       " 'behind',\n",
       " 'tv',\n",
       " 'trying',\n",
       " 'find',\n",
       " 'birds',\n",
       " 'turn',\n",
       " 'sometimes',\n",
       " \"'m\",\n",
       " 'leaving',\n",
       " 'house',\n",
       " 'time',\n",
       " 'get',\n",
       " 'home',\n",
       " \"n't\",\n",
       " 'seem',\n",
       " 'paying',\n",
       " 'attention',\n",
       " 'anymore',\n",
       " 'figured',\n",
       " \"'d\",\n",
       " 'least',\n",
       " 'enjoy',\n",
       " 'sounds',\n",
       " 'female',\n",
       " 'kitty',\n",
       " 'could',\n",
       " 'care',\n",
       " 'less',\n",
       " 'videos-but',\n",
       " 'cares',\n",
       " 'less',\n",
       " 'almost',\n",
       " 'everything',\n",
       " 'little',\n",
       " 'male',\n",
       " 'however',\n",
       " 'digs',\n",
       " \"n't\",\n",
       " 'go',\n",
       " 'ape',\n",
       " 'really',\n",
       " 'watch',\n",
       " 'bit',\n",
       " 'makes',\n",
       " 'feel',\n",
       " 'better',\n",
       " 'throw',\n",
       " 'go',\n",
       " 'work',\n",
       " 'leave',\n",
       " 'gotten',\n",
       " 'volume',\n",
       " 'two',\n",
       " 'would',\n",
       " 'given',\n",
       " 'five',\n",
       " 'stars',\n",
       " 'since',\n",
       " 'got',\n",
       " 'trilogy',\n",
       " 'give',\n",
       " 'three',\n",
       " 'stars',\n",
       " 'read',\n",
       " 'reviews',\n",
       " 'knew',\n",
       " 'vol',\n",
       " 'two',\n",
       " 'best',\n",
       " 'hands',\n",
       " 'extra',\n",
       " 'dollars',\n",
       " 'decided',\n",
       " 'get',\n",
       " 'three',\n",
       " 'combo',\n",
       " 'pack',\n",
       " 'since',\n",
       " 'birds',\n",
       " 'natural',\n",
       " 'source',\n",
       " 'food',\n",
       " 'cats',\n",
       " 'feral',\n",
       " 'natural',\n",
       " 'instantly',\n",
       " 'attracted',\n",
       " 'vol',\n",
       " 'two',\n",
       " 'contrary',\n",
       " 'cartoons',\n",
       " 'cats',\n",
       " 'fishermen',\n",
       " 'thus',\n",
       " 'fish',\n",
       " 'either',\n",
       " 'bowl',\n",
       " 'wild',\n",
       " 'something',\n",
       " 'naturally',\n",
       " 'attracted',\n",
       " 'since',\n",
       " 'gerbils',\n",
       " 'guinea',\n",
       " 'pigs',\n",
       " 'native',\n",
       " 'live',\n",
       " 'could',\n",
       " 'little',\n",
       " 'dogs',\n",
       " 'far',\n",
       " 'cats',\n",
       " 'could',\n",
       " 'tell',\n",
       " 'rodents',\n",
       " 'also',\n",
       " 'natural',\n",
       " 'food',\n",
       " 'volume',\n",
       " 'one',\n",
       " 'much',\n",
       " 'better',\n",
       " 'volume',\n",
       " 'three',\n",
       " 'also',\n",
       " 'quality',\n",
       " 'could',\n",
       " 'better',\n",
       " 'eyes',\n",
       " 'cats',\n",
       " 'could',\n",
       " 'care',\n",
       " 'less',\n",
       " 'video',\n",
       " 'quality',\n",
       " '...',\n",
       " 'see',\n",
       " 'birds..',\n",
       " 'lol',\n",
       " 'rottie',\n",
       " 'food',\n",
       " 'allergies',\n",
       " 'poultry',\n",
       " 'beef',\n",
       " 'dairy',\n",
       " \"'ve\",\n",
       " 'difficult',\n",
       " 'time',\n",
       " 'finding',\n",
       " 'toothpaste',\n",
       " \"n't\",\n",
       " 'make',\n",
       " 'allergic',\n",
       " 'enjoys',\n",
       " 'taste',\n",
       " 'toothpaste',\n",
       " 'peanut',\n",
       " 'flavor',\n",
       " 'smells',\n",
       " 'like',\n",
       " 'black',\n",
       " 'licorice',\n",
       " 'loves',\n",
       " 'taste',\n",
       " \"n't\",\n",
       " 'wiggle',\n",
       " 'much',\n",
       " 'brush',\n",
       " 'teeth',\n",
       " 'every',\n",
       " 'night',\n",
       " 'price',\n",
       " 'ok',\n",
       " 'wish',\n",
       " 'tube',\n",
       " 'came',\n",
       " 'larger',\n",
       " 'size',\n",
       " 'soooo',\n",
       " 'pup',\n",
       " 'allergies',\n",
       " \"n't\",\n",
       " 'like',\n",
       " 'his/her',\n",
       " 'current',\n",
       " 'toothpaste',\n",
       " 'might',\n",
       " 'want',\n",
       " 'try',\n",
       " 'one',\n",
       " 'puppy',\n",
       " 'loves',\n",
       " 'stuff',\n",
       " 'tail',\n",
       " 'starts',\n",
       " 'wagging',\n",
       " 'soon',\n",
       " 'ask',\n",
       " \"'s\",\n",
       " 'ready',\n",
       " 'brush',\n",
       " 'teeth',\n",
       " 'actually',\n",
       " 'enjoyable',\n",
       " 'daily',\n",
       " 'experience',\n",
       " 'definitely',\n",
       " '34',\n",
       " 'go',\n",
       " '34',\n",
       " 'dog',\n",
       " 'toothpaste',\n",
       " 'toy',\n",
       " 'poodle',\n",
       " 'loves',\n",
       " 'stuff',\n",
       " 'let',\n",
       " '34',\n",
       " 'sort',\n",
       " '34',\n",
       " 'brush',\n",
       " 'teeth',\n",
       " 'hoping',\n",
       " 'would',\n",
       " 'help',\n",
       " 'doggy',\n",
       " 'breath',\n",
       " 'interestingly',\n",
       " '...',\n",
       " 'says',\n",
       " '34',\n",
       " 'peanutbutter',\n",
       " '34',\n",
       " \"n't\",\n",
       " 'smell',\n",
       " 'like',\n",
       " 'peanutbutter',\n",
       " 'works',\n",
       " 'great',\n",
       " 'dog',\n",
       " \"n't\",\n",
       " 'hate',\n",
       " 'taste',\n",
       " 'gum',\n",
       " 'health',\n",
       " 'important',\n",
       " 'brush',\n",
       " 'pearly',\n",
       " 'whites',\n",
       " 'yes',\n",
       " 'princess',\n",
       " 'enjoying',\n",
       " 'taste',\n",
       " 'showing',\n",
       " 'getting',\n",
       " 'best/top',\n",
       " 'results',\n",
       " '..',\n",
       " 'loves',\n",
       " '...',\n",
       " 'strongly',\n",
       " 'recommended',\n",
       " 'without',\n",
       " 'regret',\n",
       " '...',\n",
       " 'dog',\n",
       " 'like',\n",
       " 'kibbles',\n",
       " 'treats',\n",
       " 'loves',\n",
       " 'eat',\n",
       " 'sprinkled',\n",
       " 'top',\n",
       " 'food',\n",
       " 'refuses',\n",
       " 'eat',\n",
       " 'smell',\n",
       " 'super',\n",
       " 'strong',\n",
       " 'even',\n",
       " 'pull',\n",
       " 'away',\n",
       " 'head',\n",
       " 'open',\n",
       " 'jar.and',\n",
       " 'even',\n",
       " 'hand',\n",
       " 'fed',\n",
       " 'food',\n",
       " 'still',\n",
       " 'tried',\n",
       " 'play',\n",
       " 'poop',\n",
       " 'granted',\n",
       " 'consumed',\n",
       " 'smaller',\n",
       " 'portion',\n",
       " 'recommended',\n",
       " 'direction',\n",
       " 'overall',\n",
       " 'may',\n",
       " 'keep',\n",
       " 'dogs',\n",
       " 'away',\n",
       " 'poop',\n",
       " 'smell',\n",
       " 'poop',\n",
       " 'smell',\n",
       " 'present',\n",
       " 'food',\n",
       " 'obviously',\n",
       " 'repells',\n",
       " 'them.so',\n",
       " 'recommend',\n",
       " 'product',\n",
       " 'unless',\n",
       " 'dog',\n",
       " 'eats',\n",
       " 'everything',\n",
       " 'product',\n",
       " \"n't\",\n",
       " 'work',\n",
       " 'dogs',\n",
       " 'smell',\n",
       " 'difficult',\n",
       " 'put',\n",
       " 'smelled',\n",
       " 'like',\n",
       " 'christmas',\n",
       " 'candy',\n",
       " 'cane',\n",
       " 'gone',\n",
       " 'wrong',\n",
       " 'put',\n",
       " 'front',\n",
       " 'dry',\n",
       " 'food',\n",
       " \"'ve\",\n",
       " 'never',\n",
       " 'seen',\n",
       " 'two',\n",
       " 'dogs',\n",
       " 'sad',\n",
       " 'eat',\n",
       " 'food',\n",
       " 'life',\n",
       " 'dogs',\n",
       " 'usually',\n",
       " 'chow',\n",
       " 'food',\n",
       " 'really',\n",
       " 'fast',\n",
       " 'eventually',\n",
       " 'started',\n",
       " 'mixing',\n",
       " 'bit',\n",
       " 'pumpkin',\n",
       " 'make',\n",
       " 'tolerable',\n",
       " 'end',\n",
       " 'thogh',\n",
       " \"n't\",\n",
       " 'work',\n",
       " 'solution',\n",
       " 'seems',\n",
       " 'keep',\n",
       " 'eye',\n",
       " 'like',\n",
       " 'hawk',\n",
       " \"'re\",\n",
       " 'fenced',\n",
       " 'yard',\n",
       " 'dispose',\n",
       " 'poop',\n",
       " 'within',\n",
       " 'minute',\n",
       " 'hitting',\n",
       " 'ground',\n",
       " 'seems',\n",
       " 'better',\n",
       " 'worse',\n",
       " 'products',\n",
       " 'funny',\n",
       " 'thing',\n",
       " 'though',\n",
       " 'actually',\n",
       " 'think',\n",
       " 'bulk',\n",
       " 'msg',\n",
       " 'worked',\n",
       " 'best',\n",
       " 'bought',\n",
       " 'product',\n",
       " 'stop',\n",
       " 'problem',\n",
       " '6',\n",
       " 'month',\n",
       " 'old',\n",
       " 'puppy',\n",
       " '5',\n",
       " 'little',\n",
       " 'dogs',\n",
       " 'paper',\n",
       " 'trained',\n",
       " 'product',\n",
       " 'smells',\n",
       " 'horrible',\n",
       " 'enough',\n",
       " 'make',\n",
       " 'stomach',\n",
       " 'turn',\n",
       " 'mixed',\n",
       " 'canned',\n",
       " 'food',\n",
       " 'one',\n",
       " 'dog',\n",
       " 'really',\n",
       " 'loved',\n",
       " 'forced',\n",
       " 'tolerate',\n",
       " 'smell',\n",
       " 'continued',\n",
       " 'feed',\n",
       " 'couple',\n",
       " 'weeks',\n",
       " 'day',\n",
       " 'helped',\n",
       " 'stop',\n",
       " 'problem',\n",
       " 'even',\n",
       " 'though',\n",
       " 'one',\n",
       " 'dog',\n",
       " 'would',\n",
       " \"n't\",\n",
       " 'eat',\n",
       " 'stopped',\n",
       " 'week',\n",
       " 'still',\n",
       " 'seems',\n",
       " 'working',\n",
       " 'fingers',\n",
       " 'crossed',\n",
       " 'really',\n",
       " \"n't\",\n",
       " 'want',\n",
       " 'smell',\n",
       " 'feed',\n",
       " 'anymore',\n",
       " 'waste',\n",
       " 'money',\n",
       " '...',\n",
       " 'work',\n",
       " 'shepherd',\n",
       " 'must',\n",
       " 'taste',\n",
       " 'nasty',\n",
       " 'like',\n",
       " 'food',\n",
       " 'much',\n",
       " 'worth',\n",
       " 'try',\n",
       " 'work',\n",
       " 'still',\n",
       " 'eats',\n",
       " 'poop',\n",
       " '...',\n",
       " 'ugh',\n",
       " 'tried',\n",
       " 'couple',\n",
       " 'products',\n",
       " 'one',\n",
       " 'worked',\n",
       " 'two',\n",
       " 'dogs',\n",
       " 'second',\n",
       " 'one',\n",
       " 'started',\n",
       " 'habit',\n",
       " 'taught',\n",
       " 'first',\n",
       " 'dog',\n",
       " 'disgusting',\n",
       " 'suggested',\n",
       " 'others',\n",
       " 'doubled',\n",
       " 'dosage',\n",
       " 'far',\n",
       " 'six',\n",
       " 'months',\n",
       " 'plus',\n",
       " \"'s\",\n",
       " 'working',\n",
       " 'would',\n",
       " 'say',\n",
       " '90',\n",
       " 'time',\n",
       " 'tell',\n",
       " '.my',\n",
       " 'husband',\n",
       " 'work',\n",
       " 'long',\n",
       " 'hours',\n",
       " 'side',\n",
       " 'yard',\n",
       " '15',\n",
       " 'x',\n",
       " '45',\n",
       " 'many',\n",
       " 'hours',\n",
       " 'door',\n",
       " 'garage',\n",
       " 'though',\n",
       " 'walk',\n",
       " 'morning',\n",
       " 'check',\n",
       " 'side',\n",
       " 'yard',\n",
       " 'deposits',\n",
       " 'leave',\n",
       " 'work',\n",
       " 'using',\n",
       " 'product',\n",
       " 'uncommon',\n",
       " 'us',\n",
       " 'come',\n",
       " 'home',\n",
       " 'dogs',\n",
       " 'horrible',\n",
       " 'breath',\n",
       " 'side',\n",
       " 'yard',\n",
       " 'half-eaten',\n",
       " 'piles',\n",
       " 'also',\n",
       " 'dog',\n",
       " 'walker',\n",
       " 'come',\n",
       " '2-3',\n",
       " 'times',\n",
       " 'week',\n",
       " 'middle',\n",
       " 'day',\n",
       " 'walk',\n",
       " 'pick',\n",
       " 'piles',\n",
       " 'alleviate',\n",
       " 'problem',\n",
       " 'however',\n",
       " 'still',\n",
       " 'ecountered',\n",
       " 'problem',\n",
       " 'rather',\n",
       " 'frequently',\n",
       " 'poor',\n",
       " 'dogs',\n",
       " 'really',\n",
       " 'suffered',\n",
       " \"n't\",\n",
       " 'want',\n",
       " 'anywhere',\n",
       " 'near',\n",
       " 'us',\n",
       " 'night',\n",
       " 'smelled',\n",
       " 'disgusting.with',\n",
       " 'product',\n",
       " 'believe',\n",
       " 'habit',\n",
       " 'stopped',\n",
       " 'way',\n",
       " 'least',\n",
       " 'significant',\n",
       " 'degree',\n",
       " 'think',\n",
       " 'twice',\n",
       " 'last',\n",
       " 'six',\n",
       " 'months',\n",
       " 'come',\n",
       " 'home',\n",
       " 'dogs',\n",
       " \"n't\",\n",
       " 'gross',\n",
       " 'us',\n",
       " 'bad',\n",
       " 'breath',\n",
       " 'anymore',\n",
       " 'everyone',\n",
       " 'much',\n",
       " 'happier',\n",
       " 'it.one',\n",
       " 'thing',\n",
       " 'first',\n",
       " 'dog',\n",
       " 'starting',\n",
       " 'get',\n",
       " 'finicky',\n",
       " 'food',\n",
       " \"n't\",\n",
       " 'know',\n",
       " 'powder',\n",
       " 'blame',\n",
       " \"'s\",\n",
       " 'supplement',\n",
       " 'also',\n",
       " 'give',\n",
       " 'found',\n",
       " 'works',\n",
       " 'really',\n",
       " 'well',\n",
       " 'liver',\n",
       " 'biscotti',\n",
       " 'sprinkles',\n",
       " 'adding',\n",
       " 'bit',\n",
       " 'top',\n",
       " 'dry',\n",
       " 'dog',\n",
       " 'food',\n",
       " 'really',\n",
       " 'helps',\n",
       " 'finishing',\n",
       " 'food',\n",
       " 'second',\n",
       " 'dog',\n",
       " 'food',\n",
       " 'inhaler',\n",
       " \"'s\",\n",
       " 'got',\n",
       " 'problem',\n",
       " 'anything',\n",
       " 'give',\n",
       " 'add',\n",
       " 'food',\n",
       " 'added',\n",
       " 'two-year',\n",
       " 'old',\n",
       " 'corgi',\n",
       " 'family',\n",
       " 'august',\n",
       " \"'d\",\n",
       " 'living',\n",
       " 'multi-dog',\n",
       " 'households',\n",
       " 'meaning',\n",
       " 'four',\n",
       " 'dogs',\n",
       " 'entire',\n",
       " 'life',\n",
       " 'one',\n",
       " 'dog',\n",
       " 'brother',\n",
       " 'immediately',\n",
       " 'began',\n",
       " 'ingesting',\n",
       " 'feces',\n",
       " 'brother',\n",
       " \"'m\",\n",
       " 'sure',\n",
       " 'habit',\n",
       " 'living',\n",
       " 'many',\n",
       " 'dogs',\n",
       " 'brought',\n",
       " 'stress',\n",
       " 'new',\n",
       " 'home',\n",
       " 'determined',\n",
       " 'stop',\n",
       " 'it.we',\n",
       " 'tried',\n",
       " 'product',\n",
       " 'drs',\n",
       " 'foster',\n",
       " 'smith',\n",
       " 'called',\n",
       " 'distaste',\n",
       " 'worked',\n",
       " 'quite',\n",
       " 'well',\n",
       " 'male',\n",
       " 'dog',\n",
       " \"n't\",\n",
       " 'terribly',\n",
       " 'thrilled',\n",
       " '--',\n",
       " 'came',\n",
       " 'chew',\n",
       " 'form',\n",
       " \"n't\",\n",
       " 'seem',\n",
       " 'like',\n",
       " 'found',\n",
       " 'sep',\n",
       " 'glad',\n",
       " 'see',\n",
       " \"'s\",\n",
       " 'something',\n",
       " 'mixed',\n",
       " 'food',\n",
       " 'work',\n",
       " 'well',\n",
       " 'distaste',\n",
       " 'seems',\n",
       " 'discourage',\n",
       " 'winter',\n",
       " 'noticed',\n",
       " 'female',\n",
       " 'picking',\n",
       " 'frozen',\n",
       " 'specimens',\n",
       " 'marching',\n",
       " 'around',\n",
       " 'yard',\n",
       " '...',\n",
       " \"n't\",\n",
       " 'seem',\n",
       " 'eating',\n",
       " 'plan',\n",
       " 'double',\n",
       " 'dose',\n",
       " 'reviewers',\n",
       " 'noted',\n",
       " \"'ll\",\n",
       " 'see',\n",
       " 'things',\n",
       " 'go',\n",
       " 'spring',\n",
       " 'typically',\n",
       " 'quick',\n",
       " 'cleaning',\n",
       " 'particularly',\n",
       " 'see',\n",
       " 'ground',\n",
       " 'occasionally',\n",
       " 'miss',\n",
       " 'pile',\n",
       " \"'m\",\n",
       " 'hoping',\n",
       " 'problems',\n",
       " 'winter',\n",
       " 'sep',\n",
       " 'working',\n",
       " 'well',\n",
       " 'maybe',\n",
       " 'feces',\n",
       " 'frozen',\n",
       " 'things',\n",
       " 'thawing',\n",
       " 'maybe',\n",
       " 'sep',\n",
       " 'discourage',\n",
       " 'strongly.so',\n",
       " 'bottom',\n",
       " 'line',\n",
       " 'seems',\n",
       " 'working',\n",
       " 'fairly',\n",
       " 'well',\n",
       " 'broken',\n",
       " 'habit',\n",
       " 'completely',\n",
       " 'comment',\n",
       " 'smell',\n",
       " 'product',\n",
       " 'smells',\n",
       " 'like',\n",
       " 'pixie',\n",
       " 'stick',\n",
       " 'dust',\n",
       " 'something',\n",
       " 'similarly',\n",
       " 'sweet/sour',\n",
       " 'find',\n",
       " 'smell',\n",
       " 'really',\n",
       " 'awful',\n",
       " 'husband',\n",
       " 'two',\n",
       " 'sons',\n",
       " \"n't\",\n",
       " 'seem',\n",
       " 'mind',\n",
       " 'hold',\n",
       " 'breath',\n",
       " 'get',\n",
       " 'mixed',\n",
       " 'dogs',\n",
       " 'food',\n",
       " 'works',\n",
       " 'really',\n",
       " 'well',\n",
       " '--',\n",
       " '100',\n",
       " 'time',\n",
       " 'time',\n",
       " 'spend',\n",
       " 'much',\n",
       " 'time',\n",
       " 'outdoors',\n",
       " 'picking',\n",
       " 'dog',\n",
       " 'poop',\n",
       " '2',\n",
       " 'dogs',\n",
       " 'tell',\n",
       " 'really',\n",
       " 'working',\n",
       " 'liked',\n",
       " 'well',\n",
       " 'bought',\n",
       " 'replacement',\n",
       " 'first',\n",
       " 'jar',\n",
       " 'ran',\n",
       " 'would',\n",
       " 'recommend',\n",
       " 'fed',\n",
       " 'german',\n",
       " 'shepard',\n",
       " 'dachshund',\n",
       " 'still',\n",
       " 'eats',\n",
       " 'poop',\n",
       " 'work',\n",
       " 'work',\n",
       " 'save',\n",
       " 'money',\n",
       " 'worth',\n",
       " 'price',\n",
       " 'work',\n",
       " 'dogs',\n",
       " 'would',\n",
       " 'recommend',\n",
       " 'product',\n",
       " 'works',\n",
       " 'well',\n",
       " 'one',\n",
       " 'used',\n",
       " 'consistently',\n",
       " 'four',\n",
       " 'dogs',\n",
       " 'one',\n",
       " 'dogs',\n",
       " 'habit',\n",
       " 'used',\n",
       " 'whole',\n",
       " 'jar',\n",
       " 'dog',\n",
       " 'still',\n",
       " 'eating',\n",
       " 'poop',\n",
       " 'hard',\n",
       " 'get',\n",
       " 'dog',\n",
       " 'eat',\n",
       " 'food',\n",
       " 'like',\n",
       " 'sep',\n",
       " 'foodit',\n",
       " \"'s\",\n",
       " 'worth',\n",
       " 'trying',\n",
       " 'may',\n",
       " 'trick',\n",
       " 'simple',\n",
       " 'cheap',\n",
       " 'easy',\n",
       " 'would',\n",
       " 'seem',\n",
       " 'feeder',\n",
       " 'would',\n",
       " 'perfect',\n",
       " 'bought',\n",
       " 'lowe',\n",
       " \"'s\",\n",
       " 'price',\n",
       " 'amazon',\n",
       " 'weeks',\n",
       " 'ago',\n",
       " 'couple',\n",
       " 'problems',\n",
       " 'hook',\n",
       " 'top',\n",
       " 'slides',\n",
       " 'around',\n",
       " 'short',\n",
       " 'section',\n",
       " 'wire',\n",
       " 'cage',\n",
       " 'hooks',\n",
       " 'maybe',\n",
       " 'inch',\n",
       " 'total',\n",
       " 'means',\n",
       " \"n't\",\n",
       " 'sit',\n",
       " 'perfectly',\n",
       " 'level',\n",
       " 'problem',\n",
       " 'birds',\n",
       " \"n't\",\n",
       " ...]"
      ]
     },
     "execution_count": 67,
     "metadata": {},
     "output_type": "execute_result"
    }
   ],
   "source": [
    "punc"
   ]
  },
  {
   "cell_type": "code",
   "execution_count": 21,
   "metadata": {
    "collapsed": false
   },
   "outputs": [],
   "source": [
    "clean_words = [w for w in punc if not w.isnumeric()]"
   ]
  },
  {
   "cell_type": "code",
   "execution_count": 22,
   "metadata": {
    "collapsed": true
   },
   "outputs": [],
   "source": [
    "no_integers = [x for x in clean_words if not isinstance(x, int)]"
   ]
  },
  {
   "cell_type": "code",
   "execution_count": 23,
   "metadata": {
    "collapsed": false
   },
   "outputs": [],
   "source": [
    "final_words = []\n",
    "for w in no_integers:\n",
    "        stemmed = lemmatizer.lemmatize(w)\n",
    "        final_words.append(stemmed)"
   ]
  },
  {
   "cell_type": "code",
   "execution_count": 24,
   "metadata": {
    "collapsed": false
   },
   "outputs": [
    {
     "data": {
      "text/plain": [
       "[('dog', 133962),\n",
       " (\"n't\", 103693),\n",
       " ('cat', 93180),\n",
       " (\"'s\", 88017),\n",
       " ('one', 74765),\n",
       " ('like', 64404),\n",
       " ('love', 55304),\n",
       " ('get', 52009),\n",
       " ('would', 50840),\n",
       " ('food', 49562),\n",
       " ('toy', 41499),\n",
       " ('product', 41427),\n",
       " ('great', 37345),\n",
       " ('time', 36319),\n",
       " ('use', 36039),\n",
       " ('good', 34269),\n",
       " ('well', 33359),\n",
       " ('work', 31811),\n",
       " ('treat', 30172),\n",
       " ('really', 29520)]"
      ]
     },
     "execution_count": 24,
     "metadata": {},
     "output_type": "execute_result"
    }
   ],
   "source": [
    "fdist = FreqDist(final_words)\n",
    "fdist.most_common(20)"
   ]
  },
  {
   "cell_type": "code",
   "execution_count": 25,
   "metadata": {
    "collapsed": false
   },
   "outputs": [],
   "source": [
    "from nltk.stem import PorterStemmer\n",
    "ps = PorterStemmer()"
   ]
  },
  {
   "cell_type": "code",
   "execution_count": 26,
   "metadata": {
    "collapsed": false
   },
   "outputs": [],
   "source": [
    "delete = (\"n't\", \"'s\", \"'m\", \"ca\", \"-----\", \"---\", \"...\", \"“\", \"”\", \"'ve\",\"''\",\"'99.5\",\"'99.7\")"
   ]
  },
  {
   "cell_type": "code",
   "execution_count": 27,
   "metadata": {
    "collapsed": false
   },
   "outputs": [],
   "source": [
    "final_words = [w for w in final_words if not w in delete]"
   ]
  },
  {
   "cell_type": "code",
   "execution_count": 28,
   "metadata": {
    "collapsed": false,
    "scrolled": true
   },
   "outputs": [
    {
     "data": {
      "text/plain": [
       "[('dog', 133962),\n",
       " ('cat', 93180),\n",
       " ('one', 74765),\n",
       " ('like', 64404),\n",
       " ('love', 55304),\n",
       " ('get', 52009),\n",
       " ('would', 50840),\n",
       " ('food', 49562),\n",
       " ('toy', 41499),\n",
       " ('product', 41427)]"
      ]
     },
     "execution_count": 28,
     "metadata": {},
     "output_type": "execute_result"
    }
   ],
   "source": [
    "fdist = FreqDist(final_words)\n",
    "fdist.most_common(10)"
   ]
  },
  {
   "cell_type": "code",
   "execution_count": 29,
   "metadata": {
    "collapsed": false
   },
   "outputs": [
    {
     "data": {
      "text/plain": [
       "<matplotlib.axes._subplots.AxesSubplot at 0x190419748>"
      ]
     },
     "execution_count": 29,
     "metadata": {},
     "output_type": "execute_result"
    },
    {
     "data": {
      "image/png": "[encoded data removed]",
      "text/plain": [
       "<matplotlib.figure.Figure at 0x190409a90>"
      ]
     },
     "metadata": {},
     "output_type": "display_data"
    }
   ],
   "source": [
    "word_hist = pd.DataFrame(fdist.most_common(10),columns=['words','count'])\n",
    "word_hist.plot(kind='Bar', x='words')\n",
    "sns.barplot(x=\"words\", y=\"count\", data=word_hist)"
   ]
  },
  {
   "cell_type": "code",
   "execution_count": 30,
   "metadata": {
    "collapsed": false
   },
   "outputs": [
    {
     "data": {
      "text/plain": [
       "[('dogs-no', 1),\n",
       " (\"'me\", 1),\n",
       " ('zd', 1),\n",
       " ('wonderfuly', 1),\n",
       " ('non-irritable', 1),\n",
       " ('brush.any', 1),\n",
       " ('hercoat', 1),\n",
       " ('norotic', 1),\n",
       " ('construction.2', 1),\n",
       " ('nicer.in', 1),\n",
       " ('dangerous.however', 1),\n",
       " ('tangles.the', 1),\n",
       " (\"reign'.the\", 1),\n",
       " ('kine', 1),\n",
       " ('//www.amazon.com/gp/product/b008em5jjs/ref=wms_ohs_product', 1),\n",
       " ('=1that', 1),\n",
       " ('nicely.overall', 1),\n",
       " ('flexi.highly', 1),\n",
       " ('tree.one', 1),\n",
       " ('retract.overall', 1)]"
      ]
     },
     "execution_count": 30,
     "metadata": {},
     "output_type": "execute_result"
    }
   ],
   "source": [
    "fdist = FreqDist(final_words)\n",
    "fdist.most_common()[-20:]"
   ]
  },
  {
   "cell_type": "code",
   "execution_count": 31,
   "metadata": {
    "collapsed": false
   },
   "outputs": [
    {
     "name": "stdout",
     "output_type": "stream",
     "text": [
      "147198\n"
     ]
    }
   ],
   "source": [
    "print(len(fdist))"
   ]
  },
  {
   "cell_type": "code",
   "execution_count": 32,
   "metadata": {
    "collapsed": false
   },
   "outputs": [],
   "source": [
    "from gensim.models import Phrases\n",
    "from gensim.models.word2vec import LineSentence\n",
    "from gensim.corpora import Dictionary, MmCorpus\n",
    "from gensim.models.ldamulticore import LdaMulticore\n",
    "from gensim import corpora, models\n",
    "\n",
    "import pyLDAvis\n",
    "import pyLDAvis.gensim"
   ]
  },
  {
   "cell_type": "code",
   "execution_count": 33,
   "metadata": {
    "collapsed": false
   },
   "outputs": [],
   "source": [
    "bigram = Phrases(final_words, min_count=1, threshold=2)"
   ]
  },
  {
   "cell_type": "code",
   "execution_count": 34,
   "metadata": {
    "collapsed": false
   },
   "outputs": [],
   "source": [
    "from nltk.collocations import *\n",
    "bigram_measures = nltk.collocations.BigramAssocMeasures()"
   ]
  },
  {
   "cell_type": "code",
   "execution_count": 35,
   "metadata": {
    "collapsed": false,
    "scrolled": false
   },
   "outputs": [
    {
     "data": {
      "text/plain": [
       "[(\"''hob\", 'filter.5'),\n",
       " (\"'abandonment\", \"issues'.i\"),\n",
       " (\"'bad'.the\", \"'negative\"),\n",
       " (\"'boost\", 'intensity.-the'),\n",
       " (\"'buuut\", 'heyyyy'),\n",
       " (\"'comfort\", \"food'.dogs\"),\n",
       " (\"'de-squeaking\", 'cuz.if'),\n",
       " (\"'deep\", \"cleaning'/large\"),\n",
       " (\"'delicate\", 'wainscoting'),\n",
       " (\"'drawer'.we\", 'hoodwinked'),\n",
       " (\"'entirely\", \"pets'.i\"),\n",
       " (\"'found\", 'photosand'),\n",
       " (\"'houses'-easy\", 'assemble-reasonably'),\n",
       " (\"'ilk\", 'afsdl'),\n",
       " (\"'imperfect\", \"'rejected\"),\n",
       " (\"'inventions\", 'ms.grandin.her'),\n",
       " (\"'jungle\", 'juice/mixed'),\n",
       " (\"'kung\", 'pao'),\n",
       " (\"'m'adaptaplug\", '273-344on'),\n",
       " (\"'master\", \"'friend\"),\n",
       " (\"'mature\", \"'aged\"),\n",
       " (\"'meditating\", 'daydreaming'),\n",
       " (\"'nick\", \"'continuous\"),\n",
       " (\"'oohhhhhhh\", 'noooooooos'),\n",
       " (\"'prize\", 'collected.the'),\n",
       " (\"'problem\", 'clients..'),\n",
       " (\"'pull-up\", \"'push-off\"),\n",
       " (\"'rabbit\", \"'field\"),\n",
       " (\"'reaction\", \"time'.test\"),\n",
       " (\"'reluctant\", 'enthusiastic.they')]"
      ]
     },
     "execution_count": 35,
     "metadata": {},
     "output_type": "execute_result"
    }
   ],
   "source": [
    "finder = BigramCollocationFinder.from_words(final_words)\n",
    "finder.nbest(bigram_measures.chi_sq, 30)"
   ]
  },
  {
   "cell_type": "code",
   "execution_count": 62,
   "metadata": {
    "collapsed": false
   },
   "outputs": [],
   "source": [
    "final_words_unic = []\n",
    "for i in final_words:\n",
    "    final_words_unic.append(bytes(str(i).encode('utf-8')))    "
   ]
  },
  {
   "cell_type": "code",
   "execution_count": 68,
   "metadata": {
    "collapsed": false
   },
   "outputs": [],
   "source": [
    "#dictionary = corpora.Dictionary(final_words_unic)\n",
    "#doc_term_matrix = [dictionary.doc2bow(doc) for doc in final_words_unicode]"
   ]
  },
  {
   "cell_type": "code",
   "execution_count": 38,
   "metadata": {
    "collapsed": false
   },
   "outputs": [
    {
     "data": {
      "text/html": [
       "<div>\n",
       "<table border=\"1\" class=\"dataframe\">\n",
       "  <thead>\n",
       "    <tr style=\"text-align: right;\">\n",
       "      <th></th>\n",
       "      <th>overall</th>\n",
       "      <th>reviewText</th>\n",
       "    </tr>\n",
       "  </thead>\n",
       "  <tbody>\n",
       "    <tr>\n",
       "      <th>0</th>\n",
       "      <td>0</td>\n",
       "      <td>I purchased the Trilogy with hoping my two cat...</td>\n",
       "    </tr>\n",
       "    <tr>\n",
       "      <th>1</th>\n",
       "      <td>1</td>\n",
       "      <td>There are usually one or more of my cats watch...</td>\n",
       "    </tr>\n",
       "    <tr>\n",
       "      <th>2</th>\n",
       "      <td>1</td>\n",
       "      <td>I bought the triliogy and have tested out all ...</td>\n",
       "    </tr>\n",
       "    <tr>\n",
       "      <th>3</th>\n",
       "      <td>1</td>\n",
       "      <td>My female kitty could care less about these vi...</td>\n",
       "    </tr>\n",
       "    <tr>\n",
       "      <th>4</th>\n",
       "      <td>0</td>\n",
       "      <td>If I had gotten just volume two, I would have ...</td>\n",
       "    </tr>\n",
       "    <tr>\n",
       "      <th>5</th>\n",
       "      <td>1</td>\n",
       "      <td>My Rottie has food allergies to poultry, beef ...</td>\n",
       "    </tr>\n",
       "    <tr>\n",
       "      <th>6</th>\n",
       "      <td>1</td>\n",
       "      <td>My puppy loves this stuff! His tail starts wag...</td>\n",
       "    </tr>\n",
       "    <tr>\n",
       "      <th>7</th>\n",
       "      <td>1</td>\n",
       "      <td>My toy poodle loves this stuff and will let me...</td>\n",
       "    </tr>\n",
       "    <tr>\n",
       "      <th>8</th>\n",
       "      <td>1</td>\n",
       "      <td>Works great and dog doesn't hate the taste.  G...</td>\n",
       "    </tr>\n",
       "    <tr>\n",
       "      <th>9</th>\n",
       "      <td>1</td>\n",
       "      <td>Yes , my Princess is enjoying the taste showin...</td>\n",
       "    </tr>\n",
       "  </tbody>\n",
       "</table>\n",
       "</div>"
      ],
      "text/plain": [
       "  overall                                         reviewText\n",
       "0       0  I purchased the Trilogy with hoping my two cat...\n",
       "1       1  There are usually one or more of my cats watch...\n",
       "2       1  I bought the triliogy and have tested out all ...\n",
       "3       1  My female kitty could care less about these vi...\n",
       "4       0  If I had gotten just volume two, I would have ...\n",
       "5       1  My Rottie has food allergies to poultry, beef ...\n",
       "6       1  My puppy loves this stuff! His tail starts wag...\n",
       "7       1  My toy poodle loves this stuff and will let me...\n",
       "8       1  Works great and dog doesn't hate the taste.  G...\n",
       "9       1  Yes , my Princess is enjoying the taste showin..."
      ]
     },
     "execution_count": 38,
     "metadata": {},
     "output_type": "execute_result"
    }
   ],
   "source": [
    "pet.head(10)"
   ]
  },
  {
   "cell_type": "code",
   "execution_count": 39,
   "metadata": {
    "collapsed": false
   },
   "outputs": [
    {
     "name": "stderr",
     "output_type": "stream",
     "text": [
      "/Users/harishprabhala/anaconda/lib/python3.6/site-packages/sklearn/cross_validation.py:44: DeprecationWarning: This module was deprecated in version 0.18 in favor of the model_selection module into which all the refactored classes and functions are moved. Also note that the interface of the new CV iterators are different from that of this module. This module will be removed in 0.20.\n",
      "  \"This module will be removed in 0.20.\", DeprecationWarning)\n"
     ]
    }
   ],
   "source": [
    "from sklearn.feature_extraction.text import TfidfTransformer\n",
    "from sklearn.feature_extraction.text import CountVectorizer\n",
    "from sklearn.cross_validation import train_test_split\n",
    "from sklearn import metrics\n",
    "from sklearn.naive_bayes import MultinomialNB\n",
    "from sklearn import linear_model\n",
    "from sklearn.metrics import recall_score\n",
    "from sklearn.metrics import accuracy_score\n",
    "from sklearn.model_selection import KFold\n",
    "from sklearn.metrics import classification_report"
   ]
  },
  {
   "cell_type": "code",
   "execution_count": 40,
   "metadata": {
    "collapsed": false
   },
   "outputs": [],
   "source": [
    "vec= CountVectorizer()\n",
    "X = vec.fit_transform(pet.reviewText)\n",
    "X = X.tocsc()\n",
    "y = (pet.overall)"
   ]
  },
  {
   "cell_type": "code",
   "execution_count": 41,
   "metadata": {
    "collapsed": false
   },
   "outputs": [],
   "source": [
    "X_train, X_test, y_train, y_test = train_test_split(X,y)"
   ]
  },
  {
   "cell_type": "code",
   "execution_count": 42,
   "metadata": {
    "collapsed": false
   },
   "outputs": [
    {
     "data": {
      "text/plain": [
       "((157836, 70861), (157836,))"
      ]
     },
     "execution_count": 42,
     "metadata": {},
     "output_type": "execute_result"
    }
   ],
   "source": [
    "X.shape, y.shape"
   ]
  },
  {
   "cell_type": "code",
   "execution_count": 43,
   "metadata": {
    "collapsed": false
   },
   "outputs": [
    {
     "data": {
      "text/plain": [
       "((118377, 70861), (118377,), (39459, 70861), (39459,))"
      ]
     },
     "execution_count": 43,
     "metadata": {},
     "output_type": "execute_result"
    }
   ],
   "source": [
    "X_train.shape, y_train.shape, X_test.shape, y_test.shape"
   ]
  },
  {
   "cell_type": "code",
   "execution_count": 69,
   "metadata": {
    "collapsed": false
   },
   "outputs": [
    {
     "name": "stdout",
     "output_type": "stream",
     "text": [
      "Accuracy of test data:  0.844826275374\n",
      "Accuracy of training data:  0.871850106017\n",
      "\n",
      "\n",
      "Classification report summary of MultinomialDB:\n",
      "             precision    recall  f1-score   support\n",
      "\n",
      "          0       0.66      0.55      0.60      8304\n",
      "          1       0.88      0.92      0.90     31155\n",
      "\n",
      "avg / total       0.84      0.84      0.84     39459\n",
      "\n"
     ]
    }
   ],
   "source": [
    "clf=MultinomialNB()\n",
    "clf.fit(X_train,y_train)\n",
    "y_pred = clf.predict(X_test)\n",
    "print ('Accuracy of test data: ',(accuracy_score(clf.predict(X_test), y_test)))\n",
    "print ('Accuracy of training data: ',(accuracy_score(clf.predict(X_train), y_train)))\n",
    "print(\"\\n\")\n",
    "print ('Classification report summary of MultinomialDB:')\n",
    "print (classification_report(y_test, y_pred))"
   ]
  },
  {
   "cell_type": "code",
   "execution_count": 45,
   "metadata": {
    "collapsed": false
   },
   "outputs": [],
   "source": [
    "kf = KFold(n_splits=5, shuffle=True)\n",
    "for train, test in kf.split(X):\n",
    "    X1_train, X1_test = X[train], X[test]\n",
    "    y1_train, y1_test = y[train], y[test]"
   ]
  },
  {
   "cell_type": "code",
   "execution_count": 46,
   "metadata": {
    "collapsed": false
   },
   "outputs": [
    {
     "name": "stdout",
     "output_type": "stream",
     "text": [
      "Accuracy of test data:  0.827731491748\n",
      "Accuracy of training data:  0.841798066034\n"
     ]
    }
   ],
   "source": [
    "clf=MultinomialNB(alpha=4)\n",
    "clf.fit(X1_train,y1_train)\n",
    "print ('Accuracy of test data: ',(accuracy_score(clf.predict(X1_test), y1_test)))\n",
    "print ('Accuracy of training data: ',(accuracy_score(clf.predict(X1_train), y1_train)))"
   ]
  },
  {
   "cell_type": "code",
   "execution_count": 47,
   "metadata": {
    "collapsed": false
   },
   "outputs": [
    {
     "data": {
      "image/png": "[encoded data removed]",
      "text/plain": [
       "<matplotlib.figure.Figure at 0x1c05ec240>"
      ]
     },
     "metadata": {},
     "output_type": "display_data"
    }
   ],
   "source": [
    "fig = plt.figure(figsize=(10,10))\n",
    "ax = fig.gca()\n",
    "df = list((X > 0).sum(0).tolist()[0])\n",
    "c = pd.Series(df)\n",
    "y = np.arange(c.sum())\n",
    "plt.hist(c,y,normed=1, histtype='step', color='r', cumulative=True, linewidth=1.5, )\n",
    "plt.xlim(-1,100)\n",
    "plt.grid()"
   ]
  },
  {
   "cell_type": "code",
   "execution_count": 48,
   "metadata": {
    "collapsed": false
   },
   "outputs": [],
   "source": [
    "vec1= CountVectorizer(min_df=12, max_df=60)\n",
    "X1 = vec1.fit_transform(pet.reviewText)\n",
    "X1 = X.tocsc()\n",
    "y1 = (pet.overall)"
   ]
  },
  {
   "cell_type": "code",
   "execution_count": 49,
   "metadata": {
    "collapsed": false
   },
   "outputs": [],
   "source": [
    "kf = KFold(n_splits=5, shuffle=True)\n",
    "for train, test in kf.split(X):\n",
    "    X2_train, X2_test = X1[train], X1[test]\n",
    "    y2_train, y2_test = y1[train], y1[test]"
   ]
  },
  {
   "cell_type": "code",
   "execution_count": 70,
   "metadata": {
    "collapsed": false
   },
   "outputs": [
    {
     "name": "stdout",
     "output_type": "stream",
     "text": [
      "Accuracy of test data:  0.864890550258\n",
      "Accuracy of training data:  0.865145047478\n",
      "\n",
      "\n",
      "Classification report summary of MultinomialDB with new hyperparameters:\n",
      "             precision    recall  f1-score   support\n",
      "\n",
      "          0       0.60      0.72      0.65      5627\n",
      "          1       0.94      0.90      0.92     25940\n",
      "\n",
      "avg / total       0.88      0.86      0.87     31567\n",
      "\n"
     ]
    }
   ],
   "source": [
    "clf1=MultinomialNB(alpha=1)\n",
    "clf1.fit(X2_train,y2_train)\n",
    "print ('Accuracy of test data: ',(accuracy_score(clf.predict(X2_test), y2_test)))\n",
    "print ('Accuracy of training data: ',(accuracy_score(clf.predict(X2_train), y2_train)))\n",
    "print(\"\\n\")\n",
    "print ('Classification report summary of MultinomialDB with new hyperparameters:')\n",
    "print(classification_report(clf.predict(X2_test), y2_test))\n"
   ]
  },
  {
   "cell_type": "code",
   "execution_count": 51,
   "metadata": {
    "collapsed": false
   },
   "outputs": [],
   "source": [
    "#rev = vectorizer.transform(['This movie is not remarkable, touching, or superb in any way'])\n",
    "#clf1.predict(rev)"
   ]
  },
  {
   "cell_type": "code",
   "execution_count": 52,
   "metadata": {
    "collapsed": false
   },
   "outputs": [
    {
     "name": "stderr",
     "output_type": "stream",
     "text": [
      "/Users/harishprabhala/anaconda/lib/python3.6/site-packages/sklearn/grid_search.py:43: DeprecationWarning: This module was deprecated in version 0.18 in favor of the model_selection module into which all the refactored classes and functions are moved. This module will be removed in 0.20.\n",
      "  DeprecationWarning)\n"
     ]
    }
   ],
   "source": [
    "from sklearn.linear_model import LogisticRegression\n",
    "from sklearn import grid_search"
   ]
  },
  {
   "cell_type": "code",
   "execution_count": 53,
   "metadata": {
    "collapsed": true
   },
   "outputs": [],
   "source": [
    "#Cs = [0.001, 0.1, 1, 10, 100]\n",
    "#parameters = {'C':Cs}\n",
    "#log = LogisticRegression()\n",
    "#clf2 = grid_search.GridSearchCV(log, parameters)\n",
    "#clf2.fit(X_train,y_train)\n",
    "#clf2.best_params"
   ]
  },
  {
   "cell_type": "code",
   "execution_count": 54,
   "metadata": {
    "collapsed": false
   },
   "outputs": [],
   "source": [
    "from sklearn.feature_extraction.text import TfidfVectorizer\n",
    "tfidfvectorizer = TfidfVectorizer(min_df=1)\n",
    "Xtfidf=tfidfvectorizer.fit_transform(pet.reviewText)\n",
    "Xtfidf1 = Xtfidf.tocsc()\n",
    "ytfidf1 = (pet.overall)"
   ]
  },
  {
   "cell_type": "code",
   "execution_count": 55,
   "metadata": {
    "collapsed": false
   },
   "outputs": [],
   "source": [
    "kf = KFold(n_splits=10, shuffle=True)\n",
    "for train, test in kf.split(Xtfidf1):\n",
    "    Xtf_train, Xtf_test = Xtfidf1[train], Xtfidf1[test]\n",
    "    ytfidf1_train, ytfidf1_test = ytfidf1[train], ytfidf1[test]"
   ]
  },
  {
   "cell_type": "code",
   "execution_count": 71,
   "metadata": {
    "collapsed": false
   },
   "outputs": [
    {
     "name": "stdout",
     "output_type": "stream",
     "text": [
      "Accuracy of test data:  0.7935753659\n",
      "Accuracy of training data:  0.791303245972\n",
      "\n",
      "\n",
      "Classification report summary of MultinomialDB with TF-IDF:\n",
      "             precision    recall  f1-score   support\n",
      "\n",
      "          0       0.01      0.80      0.03        55\n",
      "          1       1.00      0.79      0.88     15728\n",
      "\n",
      "avg / total       1.00      0.79      0.88     15783\n",
      "\n"
     ]
    }
   ],
   "source": [
    "clf3=MultinomialNB(alpha=1).fit(Xtf_train,ytfidf1_train)\n",
    "print ('Accuracy of test data: ',(accuracy_score(clf3.predict(Xtf_test), ytfidf1_test)))\n",
    "print ('Accuracy of training data: ',(accuracy_score(clf3.predict(Xtf_train), ytfidf1_train)))\n",
    "print(\"\\n\")\n",
    "print ('Classification report summary of MultinomialDB with TF-IDF:')\n",
    "print(classification_report(clf3.predict(Xtf_test), ytfidf1_test))"
   ]
  },
  {
   "cell_type": "markdown",
   "metadata": {},
   "source": [
    "### Feature extraction and dimensionality reduction"
   ]
  },
  {
   "cell_type": "code",
   "execution_count": 57,
   "metadata": {
    "collapsed": true
   },
   "outputs": [],
   "source": [
    "from sklearn.decomposition import PCA\n",
    "from sklearn.decomposition import TruncatedSVD"
   ]
  },
  {
   "cell_type": "code",
   "execution_count": 58,
   "metadata": {
    "collapsed": false
   },
   "outputs": [],
   "source": [
    "#pca.fit(Xtfidf)\n",
    "#PCA does not support sparse input. See TruncatedSVD for a possible alternative."
   ]
  },
  {
   "cell_type": "code",
   "execution_count": 59,
   "metadata": {
    "collapsed": false
   },
   "outputs": [],
   "source": [
    "#svd=TruncatedSVD(n_components=300)"
   ]
  },
  {
   "cell_type": "code",
   "execution_count": 60,
   "metadata": {
    "collapsed": false
   },
   "outputs": [],
   "source": [
    "#svd.fit_transform(Xtf_train)"
   ]
  },
  {
   "cell_type": "code",
   "execution_count": null,
   "metadata": {
    "collapsed": true
   },
   "outputs": [],
   "source": []
  }
 ],
 "metadata": {
  "kernelspec": {
   "display_name": "Python 3",
   "language": "python",
   "name": "python3"
  },
  "language_info": {
   "codemirror_mode": {
    "name": "ipython",
    "version": 3
   },
   "file_extension": ".py",
   "mimetype": "text/x-python",
   "name": "python",
   "nbconvert_exporter": "python",
   "pygments_lexer": "ipython3",
   "version": "3.6.0"
  }
 },
 "nbformat": 4,
 "nbformat_minor": 2
}

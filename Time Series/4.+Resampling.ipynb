{
 "cells": [
  {
   "cell_type": "code",
   "execution_count": 1,
   "metadata": {
    "collapsed": true
   },
   "outputs": [],
   "source": [
    "import pandas as pd\n",
    "import numpy as np"
   ]
  },
  {
   "cell_type": "code",
   "execution_count": 2,
   "metadata": {
    "collapsed": true
   },
   "outputs": [],
   "source": [
    "rng = pd.date_range('1/1/2011', periods=72, freq='H')\n",
    "ts = pd.Series(np.random.randn(len(rng)), index=rng)"
   ]
  },
  {
   "cell_type": "code",
   "execution_count": 3,
   "metadata": {},
   "outputs": [
    {
     "data": {
      "text/plain": [
       "2011-01-01 00:00:00   -0.055811\n",
       "2011-01-01 01:00:00    0.593940\n",
       "2011-01-01 02:00:00   -0.303447\n",
       "2011-01-01 03:00:00    0.606583\n",
       "2011-01-01 04:00:00    1.529404\n",
       "Freq: H, dtype: float64"
      ]
     },
     "execution_count": 3,
     "metadata": {},
     "output_type": "execute_result"
    }
   ],
   "source": [
    "ts.head()"
   ]
  },
  {
   "cell_type": "code",
   "execution_count": 8,
   "metadata": {
    "collapsed": true
   },
   "outputs": [],
   "source": [
    "converted = ts.asfreq('45Min', method='ffill')"
   ]
  },
  {
   "cell_type": "code",
   "execution_count": 9,
   "metadata": {},
   "outputs": [
    {
     "data": {
      "text/plain": [
       "2011-01-01 00:00:00   -0.055811\n",
       "2011-01-01 00:45:00   -0.055811\n",
       "2011-01-01 01:30:00    0.593940\n",
       "2011-01-01 02:15:00   -0.303447\n",
       "2011-01-01 03:00:00    0.606583\n",
       "Freq: 45T, dtype: float64"
      ]
     },
     "execution_count": 9,
     "metadata": {},
     "output_type": "execute_result"
    }
   ],
   "source": [
    "converted.head()"
   ]
  },
  {
   "cell_type": "code",
   "execution_count": null,
   "metadata": {
    "collapsed": true
   },
   "outputs": [],
   "source": [
    "# Does asfreq change the # of rows? Yes"
   ]
  },
  {
   "cell_type": "code",
   "execution_count": null,
   "metadata": {
    "collapsed": true
   },
   "outputs": [],
   "source": [
    "# What do the different methods do?\n",
    "# method : {‘backfill’, ‘bfill’, ‘pad’, ‘ffill’, None}"
   ]
  },
  {
   "cell_type": "code",
   "execution_count": null,
   "metadata": {
    "collapsed": true
   },
   "outputs": [],
   "source": [
    "# Might any of these methods have pitfalls from a logical point of view?"
   ]
  },
  {
   "cell_type": "code",
   "execution_count": null,
   "metadata": {
    "collapsed": true
   },
   "outputs": [],
   "source": [
    "# What's the difference between going to a higher frequency and a lower frequency?\n",
    "# We make our data larger or smaller respectively"
   ]
  },
  {
   "cell_type": "code",
   "execution_count": 10,
   "metadata": {
    "collapsed": true
   },
   "outputs": [],
   "source": [
    "converted = ts.asfreq('90Min', method = 'bfill')"
   ]
  },
  {
   "cell_type": "code",
   "execution_count": 11,
   "metadata": {},
   "outputs": [
    {
     "data": {
      "text/plain": [
       "(48,)"
      ]
     },
     "execution_count": 11,
     "metadata": {},
     "output_type": "execute_result"
    }
   ],
   "source": [
    "converted.shape"
   ]
  },
  {
   "cell_type": "code",
   "execution_count": null,
   "metadata": {
    "collapsed": true
   },
   "outputs": [],
   "source": [
    "# What's different logically about going to a higher frequency vs a lower frequency? \n",
    "# What do you want to do when switching to a lower freqeuncy that is not logical when switching to a higher frequency?"
   ]
  },
  {
   "cell_type": "code",
   "execution_count": 23,
   "metadata": {},
   "outputs": [
    {
     "data": {
      "text/plain": [
       "2011-01-01 00:00:00   -0.055811\n",
       "2011-01-01 00:45:00    0.593940\n",
       "2011-01-01 01:30:00   -0.303447\n",
       "2011-01-01 02:15:00         NaN\n",
       "2011-01-01 03:00:00    0.606583\n",
       "2011-01-01 03:45:00    1.529404\n",
       "2011-01-01 04:30:00    1.337220\n",
       "2011-01-01 05:15:00         NaN\n",
       "2011-01-01 06:00:00   -1.425701\n",
       "2011-01-01 06:45:00    1.954637\n",
       "2011-01-01 07:30:00    0.845122\n",
       "2011-01-01 08:15:00         NaN\n",
       "2011-01-01 09:00:00   -0.075231\n",
       "2011-01-01 09:45:00   -0.002327\n",
       "2011-01-01 10:30:00    0.692568\n",
       "2011-01-01 11:15:00         NaN\n",
       "2011-01-01 12:00:00    0.119825\n",
       "2011-01-01 12:45:00    0.970360\n",
       "2011-01-01 13:30:00    1.073068\n",
       "2011-01-01 14:15:00         NaN\n",
       "2011-01-01 15:00:00    1.820292\n",
       "2011-01-01 15:45:00   -0.262216\n",
       "2011-01-01 16:30:00   -0.397182\n",
       "2011-01-01 17:15:00         NaN\n",
       "2011-01-01 18:00:00   -1.680075\n",
       "2011-01-01 18:45:00    0.401153\n",
       "2011-01-01 19:30:00    0.729553\n",
       "2011-01-01 20:15:00         NaN\n",
       "2011-01-01 21:00:00   -0.537925\n",
       "2011-01-01 21:45:00    0.307977\n",
       "                         ...   \n",
       "2011-01-03 00:45:00    0.886671\n",
       "2011-01-03 01:30:00   -0.961000\n",
       "2011-01-03 02:15:00         NaN\n",
       "2011-01-03 03:00:00    1.430544\n",
       "2011-01-03 03:45:00    0.863670\n",
       "2011-01-03 04:30:00   -0.573555\n",
       "2011-01-03 05:15:00         NaN\n",
       "2011-01-03 06:00:00   -0.504171\n",
       "2011-01-03 06:45:00    0.673344\n",
       "2011-01-03 07:30:00    0.961704\n",
       "2011-01-03 08:15:00         NaN\n",
       "2011-01-03 09:00:00   -1.008973\n",
       "2011-01-03 09:45:00    0.707476\n",
       "2011-01-03 10:30:00   -0.898253\n",
       "2011-01-03 11:15:00         NaN\n",
       "2011-01-03 12:00:00   -1.381728\n",
       "2011-01-03 12:45:00    0.459855\n",
       "2011-01-03 13:30:00    1.053854\n",
       "2011-01-03 14:15:00         NaN\n",
       "2011-01-03 15:00:00   -0.396448\n",
       "2011-01-03 15:45:00    1.287397\n",
       "2011-01-03 16:30:00    0.482807\n",
       "2011-01-03 17:15:00         NaN\n",
       "2011-01-03 18:00:00   -0.979724\n",
       "2011-01-03 18:45:00    1.413514\n",
       "2011-01-03 19:30:00   -2.370593\n",
       "2011-01-03 20:15:00         NaN\n",
       "2011-01-03 21:00:00    0.603659\n",
       "2011-01-03 21:45:00   -1.011133\n",
       "2011-01-03 22:30:00    0.143275\n",
       "Freq: 45T, dtype: float64"
      ]
     },
     "execution_count": 23,
     "metadata": {},
     "output_type": "execute_result"
    }
   ],
   "source": [
    "ts.resample('45min').mean()"
   ]
  },
  {
   "cell_type": "code",
   "execution_count": null,
   "metadata": {
    "collapsed": true
   },
   "outputs": [],
   "source": [
    "# What if you want to downsample and you don't want to ffill or bfill?\n",
    "# You can say method='none'"
   ]
  },
  {
   "cell_type": "code",
   "execution_count": null,
   "metadata": {
    "collapsed": true
   },
   "outputs": [],
   "source": [
    "# What is the difference between .resample() and .asfreq()?\n",
    "# as freq drops the values but resample keeps them"
   ]
  },
  {
   "cell_type": "code",
   "execution_count": null,
   "metadata": {
    "collapsed": true
   },
   "outputs": [],
   "source": [
    "# What are some special things you can do with .resample() you can't do with .asfreq()?\n"
   ]
  }
 ],
 "metadata": {
  "kernelspec": {
   "display_name": "Python 3",
   "language": "python",
   "name": "python3"
  },
  "language_info": {
   "codemirror_mode": {
    "name": "ipython",
    "version": 3
   },
   "file_extension": ".py",
   "mimetype": "text/x-python",
   "name": "python",
   "nbconvert_exporter": "python",
   "pygments_lexer": "ipython3",
   "version": "3.6.0"
  }
 },
 "nbformat": 4,
 "nbformat_minor": 1
}

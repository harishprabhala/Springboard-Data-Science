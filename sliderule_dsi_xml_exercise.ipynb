{
 "cells": [
  {
   "cell_type": "markdown",
   "metadata": {},
   "source": [
    "# XML example and exercise\n",
    "****\n",
    "+ study examples of accessing nodes in XML tree structure  \n",
    "+ work on exercise to be completed and submitted\n",
    "****\n",
    "+ reference: https://docs.python.org/2.7/library/xml.etree.elementtree.html\n",
    "+ data source: http://www.dbis.informatik.uni-goettingen.de/Mondial\n",
    "****"
   ]
  },
  {
   "cell_type": "code",
   "execution_count": 1,
   "metadata": {
    "collapsed": true
   },
   "outputs": [],
   "source": [
    "from xml.etree import ElementTree as ET"
   ]
  },
  {
   "cell_type": "markdown",
   "metadata": {},
   "source": [
    "## XML example\n",
    "\n",
    "+ for details about tree traversal and iterators, see https://docs.python.org/2.7/library/xml.etree.elementtree.html"
   ]
  },
  {
   "cell_type": "code",
   "execution_count": 2,
   "metadata": {
    "collapsed": true
   },
   "outputs": [],
   "source": [
    "document_tree = ET.parse( './data/mondial_database_less.xml' )"
   ]
  },
  {
   "cell_type": "code",
   "execution_count": 4,
   "metadata": {},
   "outputs": [
    {
     "name": "stdout",
     "output_type": "stream",
     "text": [
      "Albania\n",
      "Greece\n",
      "Macedonia\n",
      "Serbia\n",
      "Montenegro\n",
      "Kosovo\n",
      "Andorra\n"
     ]
    }
   ],
   "source": [
    "# print names of all countries\n",
    "for child in document_tree.getroot():\n",
    "    print (child.find('name').text)"
   ]
  },
  {
   "cell_type": "code",
   "execution_count": 6,
   "metadata": {},
   "outputs": [
    {
     "name": "stdout",
     "output_type": "stream",
     "text": [
      "* Albania:\n",
      "Tirana, Shkodër, Durrës, Vlorë, Elbasan, Korçë\n",
      "* Greece:\n",
      "Komotini, Kavala, Athina, Peiraias, Peristeri, Acharnes, Patra, Kozani, Kerkyra, Ioannina, Thessaloniki, Iraklio, Chania, Ermoupoli, Rhodes, Tripoli, Lamia, Chalkida, Larissa, Volos, Mytilini, Karyes\n",
      "* Macedonia:\n",
      "Skopje, Kumanovo\n",
      "* Serbia:\n",
      "Beograd, Novi Sad, Niš\n",
      "* Montenegro:\n",
      "Podgorica\n",
      "* Kosovo:\n",
      "Prishtine\n",
      "* Andorra:\n",
      "Andorra la Vella\n"
     ]
    }
   ],
   "source": [
    "# print names of all countries and their cities\n",
    "for element in document_tree.iterfind('country'):\n",
    "    print ('* ' + element.find('name').text + ':'),\n",
    "    capitals_string = ''\n",
    "    for subelement in element.getiterator('city'):\n",
    "        capitals_string += subelement.find('name').text + ', '\n",
    "    print (capitals_string[:-2])"
   ]
  },
  {
   "cell_type": "markdown",
   "metadata": {},
   "source": [
    "****\n",
    "## XML exercise\n",
    "\n",
    "Using data in 'data/mondial_database.xml', the examples above, and refering to https://docs.python.org/2.7/library/xml.etree.elementtree.html, find\n",
    "\n",
    "1. 10 countries with the lowest infant mortality rates\n",
    "2. 10 cities with the largest population\n",
    "3. 10 ethnic groups with the largest overall populations (sum of best/latest estimates over all countries)\n",
    "4. name and country of a) longest river, b) largest lake and c) airport at highest elevation"
   ]
  },
  {
   "cell_type": "code",
   "execution_count": 7,
   "metadata": {
    "collapsed": true
   },
   "outputs": [],
   "source": [
    "document = ET.parse( './data/mondial_database.xml' )"
   ]
  },
  {
   "cell_type": "code",
   "execution_count": 8,
   "metadata": {},
   "outputs": [
    {
     "data": {
      "text/plain": [
       "array(['Monaco', 'Japan', 'Norway', 'Bermuda', 'Singapore', 'Sweden',\n",
       "       'Czech Republic', 'Hong Kong', 'Macao', 'Iceland'], dtype=object)"
      ]
     },
     "execution_count": 8,
     "metadata": {},
     "output_type": "execute_result"
    }
   ],
   "source": [
    "# Q1. 10 countries with lowest infant mortality rates\n",
    "\n",
    "import pandas as pd\n",
    "countries=[]\n",
    "infant_mortality=[]\n",
    "for element in document.iterfind('country'):\n",
    "    if element.find('infant_mortality')!=None:\n",
    "        countries.append(element.find('name').text)\n",
    "        infant_mortality.append(float(element.find('infant_mortality').text))\n",
    "a=pd.DataFrame(list(zip(countries,infant_mortality)),columns=['countries','infant_mortality'])\n",
    "a=a.set_index('countries',drop=True)\n",
    "b=a['infant_mortality'].nsmallest(10).index.values\n",
    "b"
   ]
  },
  {
   "cell_type": "code",
   "execution_count": 9,
   "metadata": {},
   "outputs": [
    {
     "data": {
      "text/plain": [
       "array(['Indo-Aryan', 'Dravidian', 'African', 'Bengali', 'German',\n",
       "       'English', 'Mediterranean Nordic', 'Persian', 'Mongol', 'European'], dtype=object)"
      ]
     },
     "execution_count": 9,
     "metadata": {},
     "output_type": "execute_result"
    }
   ],
   "source": [
    "# 10 ethnic groups with the largest overall populations (sum of best/latest estimates over all countries) group={}\n",
    "for element in document.iterfind('country'):    \n",
    "    for pop in element.getiterator('population'):\n",
    "        if (pop.get('year')=='2011') & (element.find('ethnicgroup')!=None):             \n",
    "            popN=int(pop.text)\n",
    "            for eth in element.getiterator('ethnicgroup'):\n",
    "                group[eth.text]=group.setdefault(eth.text,0)+popN*float(eth.get('percentage'))\n",
    "                \n",
    "a=pd.Series(group)   \n",
    "a.nlargest(10).index.values"
   ]
  },
  {
   "cell_type": "code",
   "execution_count": 10,
   "metadata": {},
   "outputs": [
    {
     "name": "stdout",
     "output_type": "stream",
     "text": [
      "The longest river is Amazonas, it is located in CO BR PE\n"
     ]
    }
   ],
   "source": [
    "#longest river\n",
    "countries=[]\n",
    "river=[]\n",
    "length=[]\n",
    "for element in document.iterfind('river'):\n",
    "    if element.find('length')!= None:\n",
    "        countries.append(element.get('country'))\n",
    "        river.append(element.find('name').text)\n",
    "        length.append(float(element.find('length').text))\n",
    "a=pd.DataFrame(list(zip(countries,river,length)),columns=['countries','river','length'])\n",
    "a=a.set_index('length',drop=True)\n",
    "print ('The longest river is {}, it is located in {}'.format(a.loc[a.index.max(),'river'],a.loc[a.index.max(),'countries']))"
   ]
  },
  {
   "cell_type": "code",
   "execution_count": 11,
   "metadata": {},
   "outputs": [
    {
     "name": "stdout",
     "output_type": "stream",
     "text": [
      "The highest elevation airport is El Alto Intl, it is located in BOL\n"
     ]
    }
   ],
   "source": [
    "#airport at highest elevation\n",
    "countries=[]\n",
    "airport=[]\n",
    "elevation=[]\n",
    "for element in document.iterfind('airport'):\n",
    "    if element.find('elevation').text!= None:\n",
    "        countries.append(element.get('country'))\n",
    "        airport.append(element.find('name').text)\n",
    "        elevation.append(int(element.find('elevation').text))\n",
    "a=pd.DataFrame(list(zip(countries,airport,elevation)),columns=['countries','airport','elevation'])\n",
    "a=a.set_index('elevation',drop=True)\n",
    "print ('The highest elevation airport is {}, it is located in {}'.format(a.loc[a.index.max(),'airport'],a.loc[a.index.max(),'countries']))"
   ]
  },
  {
   "cell_type": "code",
   "execution_count": null,
   "metadata": {
    "collapsed": true
   },
   "outputs": [],
   "source": []
  }
 ],
 "metadata": {
  "kernelspec": {
   "display_name": "Python 3",
   "language": "python",
   "name": "python3"
  },
  "language_info": {
   "codemirror_mode": {
    "name": "ipython",
    "version": 3
   },
   "file_extension": ".py",
   "mimetype": "text/x-python",
   "name": "python",
   "nbconvert_exporter": "python",
   "pygments_lexer": "ipython3",
   "version": "3.6.0"
  }
 },
 "nbformat": 4,
 "nbformat_minor": 1
}
